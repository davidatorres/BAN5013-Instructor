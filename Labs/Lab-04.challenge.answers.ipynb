{
    "metadata": {
        "kernelspec": {
            "name": "SQL",
            "display_name": "SQL",
            "language": "sql"
        },
        "language_info": {
            "name": "sql",
            "version": ""
        }
    },
    "nbformat_minor": 2,
    "nbformat": 4,
    "cells": [
        {
            "cell_type": "markdown",
            "source": [
                "# Lab 04 - Challenge Answers\n",
                "\n",
                "## Challenge 1: Retrieve product price information\n",
                "\n",
                "Adventure Works products each have a standard cost price that indicates the cost of manufacturing the product, and a list price that indicates the recommended selling price for the product. This data is stored in the **SalesLT.Product** table. Whenever a product is ordered, the actual unit price at which it was sold is also recorded in the **SalesLT.SalesOrderDetail** table. You must use subqueries to compare the cost and list prices for each product with the unit prices charged in each sale.\n",
                "\n",
                "1. Retrieve products whose list price is higher than the average unit price.\n",
                "    - Retrieve the product ID, name, and list price for each product where the list price is higher than the average unit price for all products that have been sold.\n",
                "    - _**Tip:**_ Use the AVG function to retrieve an average value."
            ],
            "metadata": {
                "azdata_cell_guid": "8463c391-739d-4f0d-9715-86df627ebdab"
            },
            "attachments": {}
        },
        {
            "cell_type": "code",
            "source": [
                "SELECT ProductID, Name, ListPrice\n",
                "FROM SalesLT.Product\n",
                "WHERE ListPrice >\n",
                "    (SELECT AVG(UnitPrice)\n",
                "    FROM SalesLT.SalesOrderDetail)\n",
                "ORDER BY ProductID;"
            ],
            "metadata": {
                "azdata_cell_guid": "5d2af926-f350-4c45-ad5e-acbeb376dac2",
                "language": "sql"
            },
            "outputs": [],
            "execution_count": null
        },
        {
            "cell_type": "markdown",
            "source": [
                "2. Retrieve Products with a list price of 100 or more that have been sold for less than 100.\n",
                "   - Retrieve the product ID, name, and list price for each product where the list price is 100 or more, and the product has been sold for less than 100.addresses are included."
            ],
            "metadata": {
                "azdata_cell_guid": "20ed5b69-d0a2-4be1-aec0-5c6d85578fbe"
            },
            "attachments": {}
        },
        {
            "cell_type": "code",
            "source": [
                "SELECT ProductID, Name, ListPrice\n",
                "FROM SalesLT.Product\n",
                "WHERE ListPrice >\n",
                "    (SELECT AVG(UnitPrice)\n",
                "    FROM SalesLT.SalesOrderDetail)\n",
                "ORDER BY ProductID;"
            ],
            "metadata": {
                "language": "sql",
                "azdata_cell_guid": "8e11cd4b-3d87-4011-ae44-68d27a3d8418"
            },
            "outputs": [],
            "execution_count": null
        },
        {
            "cell_type": "markdown",
            "source": [
                "* * *\n",
                "\n",
                "## Challenge 2: Analyze profitability\n",
                "\n",
                "The standard cost of a product and the unit price at which it is sold determine its profitability. You must use correlated subqueries to compare the cost and average selling price for each product.\n",
                "\n",
                "1. Retrieve the cost, list price, and average selling price for each product\n",
                "   - Retrieve the product ID, name, cost, and list price for each product along with the average unit price for which that product has been sold."
            ],
            "metadata": {
                "language": "sql",
                "azdata_cell_guid": "e6519b60-982a-41d6-ae97-1d9d5483aa11"
            },
            "attachments": {}
        },
        {
            "cell_type": "code",
            "source": [
                "SELECT p.ProductID, p.Name, p.StandardCost, p.ListPrice,\n",
                "    (SELECT AVG(o.UnitPrice)\n",
                "    FROM SalesLT.SalesOrderDetail AS o\n",
                "    WHERE p.ProductID = o.ProductID) AS AvgSellingPrice\n",
                "FROM SalesLT.Product AS p\n",
                "ORDER BY p.ProductID;"
            ],
            "metadata": {
                "language": "sql",
                "azdata_cell_guid": "0f43fd78-83ef-4916-ab29-ea20a2903421"
            },
            "outputs": [],
            "execution_count": null
        },
        {
            "cell_type": "markdown",
            "source": [
                "2. Retrieve products that have an average selling price that is lower than the cost.\n",
                "   - Filter your previous query to include only products where the cost price is higher than the average selling price."
            ],
            "metadata": {
                "language": "sql",
                "azdata_cell_guid": "71340017-6b07-477e-ad9a-90d57b8d92d4"
            },
            "attachments": {}
        },
        {
            "cell_type": "code",
            "source": [
                "SELECT p.ProductID, p.Name, p.StandardCost, p.ListPrice,\n",
                "    (SELECT AVG(o.UnitPrice)\n",
                "    FROM SalesLT.SalesOrderDetail AS o\n",
                "    WHERE p.ProductID = o.ProductID) AS AvgSellingPrice\n",
                "FROM SalesLT.Product AS p\n",
                "WHERE StandardCost >\n",
                "    (SELECT AVG(od.UnitPrice)\n",
                "    FROM SalesLT.SalesOrderDetail AS od\n",
                "    WHERE p.ProductID = od.ProductID)\n",
                "ORDER BY p.ProductID;"
            ],
            "metadata": {
                "language": "sql",
                "azdata_cell_guid": "ae42be8d-ef49-458b-ac85-e75a702c9fc7"
            },
            "outputs": [],
            "execution_count": null
        },
        {
            "cell_type": "markdown",
            "source": [
                "## End of Challenge 04"
            ],
            "metadata": {
                "language": "sql",
                "azdata_cell_guid": "89585e5b-edce-40cc-91c8-18abf6e2f554"
            },
            "attachments": {}
        }
    ]
}