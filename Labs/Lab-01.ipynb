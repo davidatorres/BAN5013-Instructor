{
    "metadata": {
        "kernelspec": {
            "name": "SQL",
            "display_name": "SQL",
            "language": "sql"
        },
        "language_info": {
            "name": "sql",
            "version": ""
        },
        "orig_nbformat": 4
    },
    "nbformat_minor": 2,
    "nbformat": 4,
    "cells": [
        {
            "cell_type": "markdown",
            "source": [
                "# Lab 01\n",
                "## Getting Started with Transact SQL\n",
                "### Explore the AdventureWorks database\n",
                "\n",
                "We’ll use the AdventureWorksLT database in this lab, so let’s start by exploring it in Azure Data Studio.\n",
                "\n",
                "1. Start Azure Data Studio, and in the Connections tab, select the AdventureWorksLT connection by clicking on the arrow just to the left of the name. This will connect to the SQL Server instance and show the objects in the AdventureWorks database.\n",
                "2. Expand the Tables folder to see the tables that are defined in the database. Note that there are a few tables in the dbo schema, but most of the tables are defined in a schema named SalesLT.\n",
                "3. Expand the SalesLT.Product table and then expand its Columns folder to see the columns in this table. Each column has a name, a data type, an indication of whether it can contain _null_ values, and in some cases an indication that the columns is used as a primary key (PK) or foreign key (FK).\n",
                "4. Right-click the SalesLT.Product table and use the SELECT TOP (1000) option to create and run a new query script that retrieves the first 1000 rows from the table.\n",
                "5. Review the query results, which consist of 1000 rows - each row representing a product that is sold by the fictitious _Adventure Works Cycles_ company.\n",
                "6. Close the SQLQuery\\_1 pane that contains the query and its results.\n",
                "7. Explore the other tables in the database, which contain information about product details, customers, and sales orders. The tables are related through primary and foreign keys, as shown here (you may need to resize the pane to see them clearly):\n",
                "\n",
                "![](https://microsoftlearning.github.io/dp-080-Transact-SQL/Instructions/Labs/images/adventureworks-erd.png)\n",
                "\n",
                "- Open Azure Data Studio application\n",
                "- Open Lab-01.ipynb notebook\n",
                "- Attach to AdventureWorksLT database\n",
                "- Follow instructions to perform T-SQL queries"
            ],
            "metadata": {
                "azdata_cell_guid": "8186a696-5d94-4538-bc6a-3a580621306d"
            },
            "attachments": {}
        },
        {
            "cell_type": "markdown",
            "source": [
                "## Use SELECT queries to retrieve data\n",
                "\n",
                "* * *\n",
                "\n",
                "Now that you’ve had a chance to explore the AdventureWorks database, it’s time to dig a little deeper into the product data it contains by querying the Product table.\n",
                "\n",
                "1. In the **Kerne**l drop down ensure that _SQL_ is selected\n",
                "2. In the **Attach to** drop down ensure that you _Change Connection_ to AdventureWorks database.\n",
                "3. Write a query in the code cell below to **_return all columns and all rows from the Product table_**.\n",
                "4. Run the code cell to run the query, and and after a few seconds, review the results, which includes all columns for all products."
            ],
            "metadata": {
                "azdata_cell_guid": "5d5c9d16-9b88-4c49-a54a-b658b49f4ab2"
            },
            "attachments": {}
        },
        {
            "cell_type": "code",
            "source": [
                ""
            ],
            "metadata": {
                "azdata_cell_guid": "bdd6833f-6b73-45e7-8d0b-be8cbcaa348f",
                "language": "sql"
            },
            "outputs": [],
            "execution_count": null
        },
        {
            "cell_type": "markdown",
            "source": [
                "5. Copy the query above and modify to _**only return the Product Name, Standard Cost, and List Price from the Product table**_.\n",
                "6. Run the code cell to run the query, and review the results, review the results, which this time include only the Name, StandardCost, and ListPrice columns for all products."
            ],
            "metadata": {
                "azdata_cell_guid": "f5b7cc7c-df8a-4342-b69e-9c544093cdd5"
            },
            "attachments": {}
        },
        {
            "cell_type": "code",
            "source": [
                ""
            ],
            "metadata": {
                "azdata_cell_guid": "58f1b915-56b7-43c7-a100-360f672e4cda",
                "language": "sql"
            },
            "outputs": [],
            "execution_count": null
        },
        {
            "cell_type": "markdown",
            "source": [
                "7. Copy the query above and modify the query to subtract Standard Cost from List Price that results in a calculated column, and then re-run the query\n",
                "8. Note that the results this time include the Name column and an unnamed column containing the result of subtracting the StandardCost from the ListPrice."
            ],
            "metadata": {
                "azdata_cell_guid": "0ef2daff-4134-4c65-b413-54b2dfb5fe60"
            },
            "attachments": {}
        },
        {
            "cell_type": "code",
            "source": [
                ""
            ],
            "metadata": {
                "azdata_cell_guid": "166b41ad-865b-4c2e-9433-0ab49011b93b",
                "language": "sql"
            },
            "outputs": [],
            "execution_count": null
        },
        {
            "cell_type": "markdown",
            "source": [
                "\n",
                "9. Modify the query using the **AS** keyword to assign columns names **ProductName** and **Markup** in the results, and then re-run the query.'\n",
                "10. Note that the results now include columns named ProductName and Markup.\n",
                ""
            ],
            "metadata": {
                "language": "sql",
                "azdata_cell_guid": "415f638b-6612-44ac-811c-b387f23bce59"
            },
            "attachments": {}
        },
        {
            "cell_type": "code",
            "source": [
                ""
            ],
            "metadata": {
                "language": "sql",
                "azdata_cell_guid": "c2cc29e8-dec4-4e34-b1a3-d0e8bf349db9"
            },
            "outputs": [],
            "execution_count": null
        },
        {
            "cell_type": "markdown",
            "source": [
                "11. Write a query to return the Product Number, Color, Size, plus the Color Size separated by a comma named ProductDetails. ***Hint*** use the Plus Sign (+) to concatenate the Color and Size columns. "
            ],
            "metadata": {
                "language": "sql",
                "azdata_cell_guid": "bdc54e27-e0fc-4f3f-ba22-bacaa1982140"
            },
            "attachments": {}
        },
        {
            "cell_type": "code",
            "source": [
                ""
            ],
            "metadata": {
                "language": "sql",
                "azdata_cell_guid": "b2dc8e89-e17c-4442-9e9d-051fe118d6bb"
            },
            "outputs": [],
            "execution_count": null
        },
        {
            "cell_type": "markdown",
            "source": [
                "* * *\n",
                "## Working with data types\n",
                "As you just saw, columns in a table are defined as specific data types, which affects the operations you can perform on them.\n",
                "\n",
                "1.  Enter the following query and execute.\n",
                "```\n",
                "SELECT ProductID + ': ' + Name AS ProductName\n",
                "FROM SalesLT.Product; \n",
                "```\n",
                "2. Note that this query returns an error. The + operator can be used to concatenate text-based values, or add numeric values; but in this case there’s one numeric value (ProductID) and one text-based value (Name), so it’s unclear how the operator should be applied."
            ],
            "metadata": {
                "language": "sql",
                "azdata_cell_guid": "c716bf75-5091-4e68-b2e0-409d1dbbb3de"
            },
            "attachments": {}
        },
        {
            "cell_type": "code",
            "source": [
                "\n",
                "FROM SalesLT.Product; "
            ],
            "metadata": {
                "language": "sql",
                "azdata_cell_guid": "3d81f106-2b65-4ad2-96d0-894ef491f3c2",
                "tags": [
                    "hide_input"
                ]
            },
            "outputs": [],
            "execution_count": null
        },
        {
            "cell_type": "markdown",
            "source": [
                "3. Modify the query using the **CAST** function to convert the Product ID to a varchar(5), and run the query.\n",
                "4. Note that the effect of the **CAST** function is to change the numeric ProductID column into a varchar (variable-length character data) value that can be concatenated with other text-based values."
            ],
            "metadata": {
                "language": "sql",
                "azdata_cell_guid": "c1fae3b5-5133-46f2-919e-bb6399efd2f9"
            },
            "attachments": {}
        },
        {
            "cell_type": "code",
            "source": [
                ""
            ],
            "metadata": {
                "language": "sql",
                "azdata_cell_guid": "7b8c1fd2-11ec-4e6e-89fa-cb3adcce08a0"
            },
            "outputs": [],
            "execution_count": null
        },
        {
            "cell_type": "markdown",
            "source": [
                "5. Modify the query to replace the **CAST** function with a **CONVERT** function as shown below, and then re-run it\n",
                "6. Note that the results of using **CONVERT** are the same as for CAST. The **CAST** function is an ANSI standard part of the SQL language that is available in most database systems, while **CONVERT** is a SQL Server specific function."
            ],
            "metadata": {
                "language": "sql",
                "azdata_cell_guid": "d9fc53a3-bb4b-4844-a071-d044d80b005a"
            },
            "attachments": {}
        },
        {
            "cell_type": "code",
            "source": [
                ""
            ],
            "metadata": {
                "language": "sql",
                "azdata_cell_guid": "27a70783-e7d5-443e-8f3c-6f78a1bf2e23"
            },
            "outputs": [],
            "execution_count": null
        },
        {
            "cell_type": "markdown",
            "source": [
                "7. Another key difference between the two functions is that **CONVERT** includes an additional parameter that can be useful for formatting date and time values when converting them to text-based data. For example, replace the existing query with the following code and run it.\n",
                "\n",
                "```\n",
                " SELECT SellStartDate,\n",
                "    CONVERT(nvarchar(30), SellStartDate) AS ConvertedDate,\n",
                "     CONVERT(nvarchar(30), SellStartDate, 126) AS ISO8601FormatDate\n",
                " FROM SalesLT.Product; \n",
                "```"
            ],
            "metadata": {
                "language": "sql",
                "azdata_cell_guid": "5a984553-8493-408f-a5ef-3f7ea1dce013"
            },
            "attachments": {}
        },
        {
            "cell_type": "code",
            "source": [
                ""
            ],
            "metadata": {
                "language": "sql",
                "azdata_cell_guid": "4855dc07-0593-4c4e-a789-67b81327bc7e"
            },
            "outputs": [],
            "execution_count": null
        },
        {
            "cell_type": "markdown",
            "source": [
                "8. Replace the existing query with the following code, and run it.\n",
                "\n",
                "```\n",
                "SELECT Name, CAST(Size AS Integer) AS NumericSize\n",
                "FROM SalesLT.Product; \n",
                "```\n",
                "\n",
                "9. Note that an error is returned because some Size values are not numeric (for example, some item sizes are indicated as S, M, or L)."
            ],
            "metadata": {
                "language": "sql",
                "azdata_cell_guid": "1194ff6a-c763-44f4-afd0-cf5a03b84d97"
            },
            "attachments": {}
        },
        {
            "cell_type": "code",
            "source": [
                ""
            ],
            "metadata": {
                "language": "sql",
                "azdata_cell_guid": "a18df488-fae3-42ec-99d6-b1a372854a5d"
            },
            "outputs": [],
            "execution_count": null
        },
        {
            "cell_type": "markdown",
            "source": [
                "10. Modify the query replacing **CAST** with **TRY\\_CAST** function, and re-run the query.\n",
                "11. Note that the numeric Size values are converted successfully to integers, but that non-numeric sizes are returned as NULL."
            ],
            "metadata": {
                "language": "sql",
                "azdata_cell_guid": "72ea06dc-638b-49f7-8087-7423f461fdb2"
            },
            "attachments": {}
        },
        {
            "cell_type": "code",
            "source": [
                ""
            ],
            "metadata": {
                "language": "sql",
                "azdata_cell_guid": "ac745246-25e5-48bf-87f9-5edb655fe49a",
                "tags": []
            },
            "outputs": [],
            "execution_count": null
        },
        {
            "cell_type": "markdown",
            "source": [
                "* * *\n",
                "\n",
                "## Handle NULL values\n",
                "\n",
                "We’ve seen some examples of queries that return NULL values. NULL is generally used to denote a value that is unknown. Note that this is not the same as saying the value is none - that would imply that you know that the value is zero or an empty string!\n",
                "\n",
                "1. Modify the previous query and use the **ISNULL** and **TRY\\_CAST** functions to return a zero instead of a NULL value. _**Syntax:**_\n",
                "\n",
                "```\n",
                " ISNULL(TRY_CAST(column_name AS data_type),0)\n",
                "\n",
                "```\n",
                "\n",
                "2. Run the query and view the results. Note that the **ISNULL** function replaces NULL values with the specified value, so in this case, sizes that are not numeric (and therefore can’t be converted to integers) are returned as 0.\n",
                "\n",
                "In this example, the **ISNULL** function is applied to the output of the inner **TRY\\_CAST** function, but you can also use it to deal with NULL values in the source table."
            ],
            "metadata": {
                "language": "sql",
                "azdata_cell_guid": "9986fd66-e5e8-43c9-a0c4-1886f7f64794"
            },
            "attachments": {}
        },
        {
            "cell_type": "code",
            "source": [
                ""
            ],
            "metadata": {
                "language": "sql",
                "azdata_cell_guid": "231c54e2-0400-4f8c-81b8-603fe4cfbf7b"
            },
            "outputs": [],
            "execution_count": null
        },
        {
            "cell_type": "markdown",
            "source": [
                "3. Replace the query with the **ISNULL** function to handle NULL values for Color and Size values in the source table replacing with a empty string."
            ],
            "metadata": {
                "language": "sql",
                "azdata_cell_guid": "52815f79-97af-4ded-9cc0-338aca302546"
            },
            "attachments": {}
        },
        {
            "cell_type": "code",
            "source": [
                ""
            ],
            "metadata": {
                "language": "sql",
                "azdata_cell_guid": "f31aeef2-ba0d-4769-a09f-4633c19fe933"
            },
            "outputs": [],
            "execution_count": null
        },
        {
            "cell_type": "markdown",
            "source": [
                "The **ISNULL** function replaces NULL values with a specified literal value. Sometimes, you may want to achieve the opposite result by replacing an explicit value with NULL. To do this, you can use the **NULLLIF* function.\n",
                "\n",
                "4. Try the following query, which replaces the Color value “Multi” to NULL.\n",
                "```\n",
                "SELECT Name, NULLIF(Color, 'Multi') AS SingleColor\n",
                "FROM SalesLT.Product;\n",
                "```\n",
                "\n",
                ""
            ],
            "metadata": {
                "language": "sql",
                "azdata_cell_guid": "ff3a0954-c658-4317-9240-c1675c67655e"
            },
            "attachments": {}
        },
        {
            "cell_type": "code",
            "source": [
                ""
            ],
            "metadata": {
                "language": "sql",
                "azdata_cell_guid": "1845eba6-9f74-4567-8448-27995d812683"
            },
            "outputs": [],
            "execution_count": null
        },
        {
            "cell_type": "markdown",
            "source": [
                "In some scenarios, you might want to compare multiple columns and find the first one that isn’t NULL. For example, suppose you want to track the status of a product’s availability based on the dates recorded when it was first offered for sale or removed from sale. A product that is currently available will have a SellStartDate, but the SellEndDate value will be NULL. When a product is no longer sold, a date is entered in its SellEndDate column. To find the first non-NULL column, you can use the **COALESCE** function.\n",
                "\n",
                "5. Use the following query to find the first non-NULL date for product selling status.\n",
                "\n",
                "```\n",
                "SELECT Name, COALESCE(SellEndDate, SellStartDate) AS StatusLastUpdated\n",
                "FROM SalesLT.Product;\n",
                "```"
            ],
            "metadata": {
                "language": "sql",
                "azdata_cell_guid": "c843d7ae-1dc3-40e5-8823-b4ab6f085503"
            },
            "attachments": {}
        },
        {
            "cell_type": "code",
            "source": [
                ""
            ],
            "metadata": {
                "language": "sql",
                "azdata_cell_guid": "4e658674-fa1e-41aa-afa3-ecbcc5f11f08"
            },
            "outputs": [],
            "execution_count": null
        },
        {
            "cell_type": "markdown",
            "source": [
                "The previous query returns the last date on which the product selling status was updated, but doesn’t actually tell us the sales status itself. To determine that, we’ll need to check the dates to see if the ***SellEndDate*** is NULL. To do this, you can use a **CASE** expression in the SELECT clause to check for NULL ***SellEndDate*** values. The **CASE** expression has two variants: a simple **CASE** what evaluates a specific column or value, or a searched **CASE** that evaluates one or more expressions.\n",
                "\n",
                "In this example, or **CASE** experssion must determine if the ***SellEndDate*** column is NULL. Typically, when you are trying to check the value of a column you can use the = operator; for example the predicate ***SellEndDate*** = ‘01/01/2005’ returns True if the ***SellEndDate*** value is 01/01/2005, and False otherwise. However, when dealing with NULL values, the default behavior may not be what you expect. Remember that NULL actually means unknown, so using the = operator to compare two unknown values always results in a value of NULL - semantically, it’s impossible to know if one unknown value is the same as another. To check to see if a value is NULL, you must use the IS NULL predicate; and conversely to check that a value is not NULL you can use the IS NOT NULL predicate.\n",
                "\n",
                "6. Use the following query, which includes searched **CASE** that uses an IS NULL expression to check for NULL SellEndDate values.\n",
                "\n",
                "```\n",
                " SELECT Name,\n",
                "     CASE\n",
                "         WHEN SellEndDate IS NULL THEN 'Currently for sale'\n",
                "         ELSE 'No longer available'\n",
                "     END AS SalesStatus\n",
                " FROM SalesLT.Product;\n",
                "```"
            ],
            "metadata": {
                "language": "sql",
                "azdata_cell_guid": "95e5fcd9-cfe5-467f-8ed6-e79d9c37918e"
            },
            "attachments": {}
        },
        {
            "cell_type": "code",
            "source": [
                ""
            ],
            "metadata": {
                "language": "sql",
                "azdata_cell_guid": "94ef3027-578d-4d84-a58a-127b59767989"
            },
            "outputs": [],
            "execution_count": null
        },
        {
            "cell_type": "markdown",
            "source": [
                "The previous query used a searched **CASE** expression, which begins with a **CASE** keyword, and includes one or more WHEN…THEN expressions with the values and predicates to be checked. An ELSE expression provides a value to use if none of the WHEN conditions are matched, and the END keyword denotes the end of the **CASE** expression, which is aliased to a column name for the result using an AS expression.\n",
                "\n",
                "In some queries, it’s more appropriate to use a simple **CASE** expression that applies multiple WHERE…THEN predictes to the same value.\n",
                "\n",
                "7. Run the following query to see an example of a simple **CASE** expression that produced different results depending on the ***Size*** column value.\n",
                "\n",
                "```\n",
                " SELECT Name,\n",
                "     CASE Size\n",
                "         WHEN 'S' THEN 'Small'\n",
                "         WHEN 'M' THEN 'Medium'\n",
                "         WHEN 'L' THEN 'Large'\n",
                "         WHEN 'XL' THEN 'Extra-Large'\n",
                "         ELSE ISNULL(Size, 'n/a')\n",
                "     END AS ProductSize\n",
                " FROM SalesLT.Product;\n",
                "```\n",
                "8. Review the query results and note that the **ProductSize** column contains the text-based description of the size for S, M, L, and XL sizes; the measurement value for numeric sizes, and n/a for any other sizes values."
            ],
            "metadata": {
                "language": "sql",
                "azdata_cell_guid": "13fc6a9e-5748-4f3c-801a-58ae04005258"
            },
            "attachments": {}
        },
        {
            "cell_type": "code",
            "source": [
                ""
            ],
            "metadata": {
                "language": "sql",
                "azdata_cell_guid": "135441a6-4a16-4d87-914c-aeb3acda77c4"
            },
            "outputs": [],
            "execution_count": null
        },
        {
            "cell_type": "markdown",
            "source": [
                "## End of Lab 01"
            ],
            "metadata": {
                "language": "sql",
                "azdata_cell_guid": "a1b25e83-b1d2-45b6-a66e-d80ea52836d6"
            },
            "attachments": {}
        }
    ]
}