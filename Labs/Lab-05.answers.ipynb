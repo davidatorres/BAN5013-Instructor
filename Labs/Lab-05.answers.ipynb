{
    "metadata": {
        "kernelspec": {
            "name": "SQL",
            "display_name": "SQL",
            "language": "sql"
        },
        "language_info": {
            "name": "sql",
            "version": ""
        },
        "orig_nbformat": 4
    },
    "nbformat_minor": 2,
    "nbformat": 4,
    "cells": [
        {
            "cell_type": "markdown",
            "source": [
                "# Lab 05 - Answers\n",
                "## Using Built-in Functions\n",
                "In this lab, you’ll use built-in functions to retrieve and aggregate data in the AdventureWorksLT database. For your reference, the following diagram shows the tables in the database (you may need to resize the pane to see them clearly).\n",
                "![](https://microsoftlearning.github.io/dp-080-Transact-SQL/Instructions/Labs/images/adventureworks-erd.png)\n",
                "- Open Azure Data Studio application\n",
                "- Open Lab-04.ipynb notebook\n",
                "- Attach to AdventureWorksLT database\n",
                "- Follow instructions to perform T-SQL queries"
            ],
            "metadata": {
                "azdata_cell_guid": "8186a696-5d94-4538-bc6a-3a580621306d"
            },
            "attachments": {}
        },
        {
            "cell_type": "markdown",
            "source": [
                "* * *\n",
                "\n",
                "## Scalar functions\n",
                "\n",
                "Transact-SQL provides a large number of functions that you can use to extract additional information from your data. Most of these functions are scalar functions that return a single value based on one or more input parameters, often a data field.\n",
                "\n",
                "Tip: We don’t have enough time in this exercise to explore every function available in Transact-SQL. To learn more about the functions covered in this exercise, and more, view the [Transact-SQL documentation](https://docs.microsoft.com/sql/t-sql/functions/functions).\n",
                "\n",
                "1. Attach to the AdventureWorksLT database.\n",
                "2. Use the diagram above to locate the tables and columns in the database you'll need.\n",
                "3. In the query editor, enter the following code.\n",
                "```sql\n",
                " SELECT YEAR(SellStartDate) AS SellStartYear, ProductID, Name\n",
                " FROM SalesLT.Product\n",
                " ORDER BY SellStartYear;\n",
                "```\n",
                "4. Run the query and review the results, noting that the `YEAR` function has retrieved the year from the **SellStartDate** field."
            ],
            "metadata": {
                "azdata_cell_guid": "5d5c9d16-9b88-4c49-a54a-b658b49f4ab2"
            },
            "attachments": {}
        },
        {
            "cell_type": "code",
            "source": [
                " SELECT YEAR(SellStartDate) AS SellStartYear, ProductID, Name\n",
                " FROM SalesLT.Product\n",
                " ORDER BY SellStartYear;"
            ],
            "metadata": {
                "azdata_cell_guid": "b9c9afb2-1eaf-4c80-87ba-67fb9f5ba69f",
                "language": "sql"
            },
            "outputs": [],
            "execution_count": 6
        },
        {
            "cell_type": "markdown",
            "source": [
                "5. Copy and complete the query below to use some scalar functions that operate on datetime values.\n",
                "```sql\n",
                " SELECT YEAR(__) AS SellStartYear,\n",
                "        DATENAME(mm,__) AS SellStartMonth,\n",
                "        DAY(__) AS SellStartDay,\n",
                "        DATENAME(dw, __) AS SellStartWeekday,\n",
                "        DATEDIFF(yy,__, GETDATE()) AS YearsSold,\n",
                "        ProductID,\n",
                "        Name\n",
                " FROM SalesLT.Product\n",
                " ORDER BY SellStartYear;\n",
                " ```\n",
                "6. Run the query and review the results.\n",
                "\n",
                "**Note:** that the `DATENAME` function returns a different value depending on the datepart parameter that is passed to it. In this example, mm returns the month name, and **dw** returns the weekday name.\n",
                "\n",
                "**Note:** also that the `DATEDIFF` function returns the specified time interval between and start date and an end date. In this case the interval is measured in years (**yy**), and the end date is determined by the `GETDATE` function; which when used with no parameters returns the current date and time.\n",
                ""
            ],
            "metadata": {
                "azdata_cell_guid": "f5b7cc7c-df8a-4342-b69e-9c544093cdd5"
            },
            "attachments": {}
        },
        {
            "cell_type": "code",
            "source": [
                " SELECT YEAR(SellStartDate) AS SellStartYear,\n",
                "        DATENAME(mm,SellStartDate) AS SellStartMonth,\n",
                "        DAY(SellStartDate) AS SellStartDay,\n",
                "        DATENAME(dw, SellStartDate) AS SellStartWeekday,\n",
                "        DATEDIFF(yy,SellStartDate, GETDATE()) AS YearsSold,\n",
                "        ProductID,\n",
                "        Name\n",
                " FROM SalesLT.Product\n",
                " ORDER BY SellStartYear;"
            ],
            "metadata": {
                "azdata_cell_guid": "70d06db0-5ba8-4f5d-973b-467ee6ed17ac",
                "language": "sql"
            },
            "outputs": [],
            "execution_count": 7
        },
        {
            "cell_type": "markdown",
            "source": [
                "7. Copy the following query into the code cell.\n",
                "```sql\n",
                "SELECT CONCAT(FirstName + ' ', LastName) AS FullName\n",
                "FROM SalesLT.Customer;\n",
                "```\n",
                "8. Run the query and note that it returns the concatenated first and last name for each customer."
            ],
            "metadata": {
                "azdata_cell_guid": "86f5d550-5312-4520-9dda-12fb62e4aca9"
            },
            "attachments": {}
        },
        {
            "cell_type": "code",
            "source": [
                "SELECT CONCAT(FirstName + ' ', LastName) AS FullName\n",
                "FROM SalesLT.Customer;"
            ],
            "metadata": {
                "azdata_cell_guid": "2cb88e35-0b6a-4059-a139-b49537b9a6a0",
                "language": "sql"
            },
            "outputs": [],
            "execution_count": 8
        },
        {
            "cell_type": "markdown",
            "source": [
                "9. Copy and complete to explore some more functions that manipulate string-based values.\n",
                "```sql\n",
                " SELECT UPPER(__) AS ProductName,\n",
                "        ProductNumber,\n",
                "        ROUND(__, 0) AS ApproxWeight,\n",
                "        LEFT(ProductNumber, 2) AS ProductType,\n",
                "        SUBSTRING(ProductNumber,CHARINDEX('-', ProductNumber) + 1, 4) AS ModelCode,\n",
                "        SUBSTRING(ProductNumber, LEN(ProductNumber) - CHARINDEX('-', REVERSE(RIGHT(ProductNumber, 3))) + 2, 2) AS SizeCode\n",
                " FROM SalesLT.Product;\n",
                "```\n",
                "10. Run the query and note that it returns the following data:\n",
                "    - The product name, converted to upper case by the `UPPER` function.\n",
                "    - The product number, which is a string code that encapsulates details of the product.\n",
                "    - The weight of the product, rounded to the nearest whole number by using the `ROUND` function.\n",
                "    - The product type, which is indicated by the first two characters of the product number, starting from the left (using the `LEFT` function).\n",
                "    - The model code, which is extracted from the product number by using the `SUBSTRING` function, which extracts the four characters immediately following the first - character, which is found using the `CHARINDEX` function.\n",
                "    - The size code, which is extracted using the `SUBSTRING` function to extract the two characters following the last - in the product code. The last - character is found by taking the total length (`LEN`) of the product ID and finding its index (`CHARINDEX`) in the reversed (`REVERSE`) first three characters from the right (`RIGHT`). This example shows how you can combine functions to apply fairly complex logic to extract the values you need."
            ],
            "metadata": {
                "language": "sql",
                "azdata_cell_guid": "31b7769e-d670-446d-9508-3e4fc4d265e9"
            },
            "attachments": {}
        },
        {
            "cell_type": "code",
            "source": [
                " SELECT UPPER(Name) AS ProductName,\n",
                "        ProductNumber,\n",
                "        ROUND(Weight, 0) AS ApproxWeight,\n",
                "        LEFT(ProductNumber, 2) AS ProductType,\n",
                "        SUBSTRING(ProductNumber,CHARINDEX('-', ProductNumber) + 1, 4) AS ModelCode,\n",
                "        SUBSTRING(ProductNumber, LEN(ProductNumber) - CHARINDEX('-', REVERSE(RIGHT(ProductNumber, 3))) + 2, 2) AS SizeCode\n",
                " FROM SalesLT.Product;"
            ],
            "metadata": {
                "language": "sql",
                "azdata_cell_guid": "1f01aafa-3b1a-49f7-9974-9f24d66f7f5a"
            },
            "outputs": [],
            "execution_count": 9
        },
        {
            "cell_type": "markdown",
            "source": [
                "* * *\n",
                "## Using logical functions\n",
                "*Logical* functions are used to apply logical tests to values, and return an appropriate value based on the results of the logical evaluation.\n",
                "\n",
                "1. Copy the following query into the code cell.\n",
                "```sql\n",
                "SELECT Name, Size AS NumericSize\n",
                "FROM SalesLT.Product\n",
                "WHERE ISNUMERIC(Size) = 1;\n",
                "```\n",
                "2. Run the query and note that the results only products with a numeric size."
            ],
            "metadata": {
                "language": "sql",
                "azdata_cell_guid": "b88430bf-c707-45ed-acb3-1b00a9ef2090"
            },
            "attachments": {}
        },
        {
            "cell_type": "code",
            "source": [
                "SELECT Name, Size AS NumericSize\n",
                "FROM SalesLT.Product\n",
                "WHERE ISNUMERIC(Size) = 1;"
            ],
            "metadata": {
                "language": "sql",
                "azdata_cell_guid": "4051845e-56d7-4469-aec2-0b0ef495d2bf"
            },
            "outputs": [],
            "execution_count": 10
        },
        {
            "cell_type": "markdown",
            "source": [
                "3. Copy and complete the following query which nests the ISNUMERIC function used previously in an IIF function; which in turn evaluates the result of the ISNUMERIC function and returns Numeric if the result is 1 (true), and Non-Numeric otherwise.\n",
                "```sql\n",
                " SELECT __, IIF(ISNUMERIC(__) = 1, 'Numeric', 'Non-Numeric') AS SizeType\n",
                " FROM SalesLT.Product;\n",
                "``` \n",
                "4. Run the query and review the results."
            ],
            "metadata": {
                "language": "sql",
                "azdata_cell_guid": "db26a650-0292-412d-814d-5dfd59e4db05"
            },
            "attachments": {}
        },
        {
            "cell_type": "code",
            "source": [
                "SELECT Name, IIF(ISNUMERIC(Size) = 1, 'Numeric', 'Non-Numeric') AS SizeType\n",
                "FROM SalesLT.Product;"
            ],
            "metadata": {
                "language": "sql",
                "azdata_cell_guid": "1aff60d9-79a3-4a29-abc0-ea09849eed6c"
            },
            "outputs": [],
            "execution_count": 11
        },
        {
            "cell_type": "markdown",
            "source": [
                "5. Copy and complete the following query in the code cell below.\n",
                "```sql\n",
                " SELECT prd.__ AS ProductName,\n",
                "        cat.__ AS Category,\n",
                "        CHOOSE (cat.ParentProductCategoryID, 'Bikes','Components','Clothing','Accessories') AS ProductType\n",
                " FROM SalesLT.Product AS prd\n",
                " JOIN SalesLT.ProductCategory AS cat\n",
                "     ON prd.ProductCategoryID = cat.ProductCategoryID;\n",
                "```\n",
                "\n",
                "6. Run the query and note that the `CHOOSE` function returns the value in the ordinal position in a list based on the a specified index value. The list index is 1-based so in this query the function returns Bikes for category 1, Components for category 2, and so on."
            ],
            "metadata": {
                "language": "sql",
                "azdata_cell_guid": "04ab8e48-5ef9-47e0-b14a-24c0a6b482cc"
            },
            "attachments": {}
        },
        {
            "cell_type": "code",
            "source": [
                "SELECT prd.Name AS ProductName,\n",
                "    cat.Name AS Category,\n",
                "    CHOOSE (cat.ParentProductCategoryID, 'Bikes','Components','Clothing','Accessories') AS ProductType\n",
                "FROM SalesLT.Product AS prd\n",
                "JOIN SalesLT.ProductCategory AS cat\n",
                "    ON prd.ProductCategoryID = cat.ProductCategoryID;"
            ],
            "metadata": {
                "language": "sql",
                "azdata_cell_guid": "045b4e0b-3149-4ca4-8bfe-331c201d1119",
                "tags": []
            },
            "outputs": [],
            "execution_count": 12
        },
        {
            "cell_type": "markdown",
            "source": [
                "* * *\n",
                "## Using aggregate functions\n",
                "*Aggregate* functions return an aggregated value, such as a sum, count, average, minimum, or maximum.\n",
                "\n",
                "1. Copy and complete the following query in the code cell below.\n",
                "\n",
                "```sql\n",
                "SELECT COUNT(*) AS Products,\n",
                "    COUNT(DISTINCT ProductCategoryID) AS Categories,\n",
                "    AVG(ListPrice) AS Average__\n",
                "FROM __.Product;\n",
                "```\n",
                "2. Run the query and note that the following aggregations are returned:\n",
                "   -  The number of products in the table. This is returned by using the COUNT function to count the number of rows (*).\n",
                "   -  The number of categories. This is returned by using rhe COUNT function to count the number of distinct category IDs in the table.\n",
                "   -  The average price of a product. This is returned by using the AVG function with the ListPrice field.\n",
                ""
            ],
            "metadata": {
                "language": "sql",
                "azdata_cell_guid": "7a7a5e1c-bab7-44b0-b25b-0a5152aaaa6d"
            },
            "attachments": {}
        },
        {
            "cell_type": "code",
            "source": [
                "SELECT COUNT(*) AS Products,\n",
                "    COUNT(DISTINCT ProductCategoryID) AS Categories,\n",
                "    AVG(ListPrice) AS AveragePrice\n",
                "FROM SalesLT.Product;"
            ],
            "metadata": {
                "language": "sql",
                "azdata_cell_guid": "f43cbacb-2d31-478b-a9d7-ea890a89c72f"
            },
            "outputs": [],
            "execution_count": 13
        },
        {
            "cell_type": "markdown",
            "source": [
                "3. Copy and complete the following query the number of models and their average price for products with a category names that end with \"bikes\".\n",
                "\n",
                "```sql\n",
                " SELECT COUNT(p.ProductID) AS BikeModels, AVG(p.ListPrice) AS AveragePrice\n",
                " FROM SalesLT.Product AS p\n",
                " JOIN SalesLT.ProductCategory AS c\n",
                "     ON p.ProductCategoryID = c.ProductCategoryID\n",
                " WHERE c.Name LIKE '%Bikes';\n",
                "```\n",
                "4. Run the query, noting that it returns the number of models and the average price for products with category names that end in “bikes”."
            ],
            "metadata": {
                "language": "sql",
                "azdata_cell_guid": "03da347d-dc5c-474a-acfa-36e00d56cbbc"
            },
            "attachments": {}
        },
        {
            "cell_type": "code",
            "source": [
                "SELECT COUNT(p.ProductID) AS BikeModels, AVG(p.ListPrice) AS AveragePrice\n",
                "FROM SalesLT.Product AS p\n",
                "JOIN SalesLT.ProductCategory AS c\n",
                "    ON p.ProductCategoryID = c.ProductCategoryID\n",
                "WHERE c.Name LIKE '%Bikes';"
            ],
            "metadata": {
                "language": "sql",
                "azdata_cell_guid": "184de95c-2aa2-44bd-ba5c-3b6003878882"
            },
            "outputs": [],
            "execution_count": 14
        },
        {
            "cell_type": "markdown",
            "source": [
                "* * *\n",
                "## Group aggregated results with the GROUP BY clause\n",
                "Aggregate functions are especially useful when combined with the GROUP BY clause to calculate aggregations for different groups of data.\n",
                "\n",
                "1. Copy and complete the following query in the code cell below, to return the number of customers assigned to each salesperson.\n",
                "\n",
                "```sql\n",
                "SELECT Salesperson, COUNT(CustomerID) AS Customers\n",
                "FROM SalesLT.__\n",
                "GROUP BY Salesperson\n",
                "ORDER BY Salesperson;\n",
                "```\n",
                "\n",
                "2. Run the query and note that it returns the number of customers assigned to each salesperson."
            ],
            "metadata": {
                "language": "sql",
                "azdata_cell_guid": "87c234c6-1ff7-4ad9-b5ea-8459739d9abe"
            },
            "attachments": {}
        },
        {
            "cell_type": "code",
            "source": [
                "SELECT Salesperson, COUNT(CustomerID) AS Customers\n",
                "FROM SalesLT.Customer\n",
                "GROUP BY Salesperson\n",
                "ORDER BY Salesperson;"
            ],
            "metadata": {
                "language": "sql",
                "azdata_cell_guid": "8a0f2f35-9390-4383-850f-fa9ddeab73e7"
            },
            "outputs": [],
            "execution_count": 15
        },
        {
            "cell_type": "markdown",
            "source": [
                "3. Copy and complete the following query in the code cell below, to returns the total sales revenue for each salesperson who has completed any sales.\n",
                "\n",
                "```sql\n",
                "SELECT __.Salesperson, SUM(oh.SubTotal) AS SalesRevenue\n",
                "FROM SalesLT.Customer c\n",
                "JOIN SalesLT.SalesOrderHeader oh\n",
                "    ON __.CustomerID = oh.CustomerID\n",
                "GROUP BY __.Salesperson\n",
                "ORDER BY SalesRevenue DESC;\n",
                "```\n",
                "\n",
                "4. Run the query, noting that it returns the total sales revenue for each salesperson who has completed any sales."
            ],
            "metadata": {
                "language": "sql",
                "azdata_cell_guid": "bea4110c-27e3-4392-ab3c-2ed3112f1fe3"
            },
            "attachments": {}
        },
        {
            "cell_type": "code",
            "source": [
                "SELECT c.Salesperson, SUM(oh.SubTotal) AS SalesRevenue\n",
                "FROM SalesLT.Customer c\n",
                "JOIN SalesLT.SalesOrderHeader oh\n",
                "    ON c.CustomerID = oh.CustomerID\n",
                "GROUP BY c.Salesperson\n",
                "ORDER BY SalesRevenue DESC;"
            ],
            "metadata": {
                "language": "sql",
                "azdata_cell_guid": "c35925a6-cb21-4916-b03f-3878dade4ad2"
            },
            "outputs": [],
            "execution_count": 16
        },
        {
            "cell_type": "markdown",
            "source": [
                "5. Copy and complete the following query in the code cell below, to return the sales totals for salespeople who have sold items, and 0.00 for those who haven’t.\n",
                "\n",
                "```sql\n",
                "SELECT c.Salesperson, ISNULL(SUM(oh.SubTotal), 0.00) AS SalesRevenue\n",
                "FROM SalesLT.Customer c\n",
                "LEFT JOIN SalesLT.SalesOrderHeader oh\n",
                "    ON c.CustomerID = oh.CustomerID\n",
                "GROUP BY c.Salesperson\n",
                "ORDER BY SalesRevenue DESC;\n",
                "```\n",
                "\n",
                "6. Run the query, noting that it returns the sales totals for salespeople who have sold items, and 0.00 for those who haven’t.\n",
                ""
            ],
            "metadata": {
                "language": "sql",
                "azdata_cell_guid": "6c329fff-abd7-48ed-8136-b9f14eee110d"
            },
            "attachments": {}
        },
        {
            "cell_type": "code",
            "source": [
                "SELECT c.Salesperson, ISNULL(SUM(oh.SubTotal), 0.00) AS SalesRevenue\n",
                "FROM SalesLT.Customer c\n",
                "LEFT JOIN SalesLT.SalesOrderHeader oh\n",
                "    ON c.CustomerID = oh.CustomerID\n",
                "GROUP BY c.Salesperson\n",
                "ORDER BY SalesRevenue DESC;"
            ],
            "metadata": {
                "language": "sql",
                "azdata_cell_guid": "f7716fa5-ed2f-4484-b67a-eede8ba81754"
            },
            "outputs": [],
            "execution_count": 17
        },
        {
            "cell_type": "markdown",
            "source": [
                "* * *\n",
                "## Filter groups with the HAVING clause\n",
                "\n",
                "After grouping data, you may want to filter the results to include only the groups that meet specified criteria. For example, you may want to return only salespeople with more than 100 customers.\n",
                "\n",
                "1. Copy and complete the following query with the following code, which you may think would return salespeople with more than 100 customers (but you’d be wrong, as you will see!)\n",
                "\n",
                "```sql\n",
                "SELECT Salesperson, COUNT(CustomerID) AS Customers\n",
                "FROM SalesLT.Customer\n",
                "WHERE COUNT(CustomerID) > 100\n",
                "GROUP BY Salesperson\n",
                "ORDER BY Salesperson;\n",
                "```\n",
                "\n",
                "2. Run the query and note that it returns an error. The WHERE clause is applied before the aggregations and the GROUP BY clause, so you can’t use it to filter on the aggregated value."
            ],
            "metadata": {
                "language": "sql",
                "azdata_cell_guid": "bdac20f9-750a-4c08-88e2-d465f895b361"
            },
            "attachments": {}
        },
        {
            "cell_type": "code",
            "source": [
                "-- SELECT Salesperson, COUNT(CustomerID) AS Customers\n",
                "-- FROM SalesLT.Customer\n",
                "-- WHERE COUNT(CustomerID) > 100\n",
                "-- GROUP BY Salesperson\n",
                "-- ORDER BY Salesperson;"
            ],
            "metadata": {
                "language": "sql",
                "azdata_cell_guid": "dd970828-aa94-47f8-abe5-0a927d08575e"
            },
            "outputs": [],
            "execution_count": 18
        },
        {
            "cell_type": "markdown",
            "source": [
                "3. Copy and complete the query using a `HAVING` clause, which is applied after the aggregations and `GROUP BY` clause.\n",
                "\n",
                "```sql\n",
                "SELECT Salesperson, COUNT(CustomerID) AS Customers\n",
                "FROM SalesLT.Customer\n",
                "G__ BY Salesperson\n",
                "H__ COUNT(CustomerID) > 100\n",
                "ORDER BY Salesperson;\n",
                "```\n",
                "\n",
                "4. Run the query, and note that it returns only salespeople who have more than 100 customers assigned to them."
            ],
            "metadata": {
                "language": "sql",
                "azdata_cell_guid": "0b2caf3c-4c17-46e7-88e1-dc104e58ac52"
            },
            "attachments": {}
        },
        {
            "cell_type": "code",
            "source": [
                "SELECT Salesperson, COUNT(CustomerID) AS Customers\n",
                "FROM SalesLT.Customer\n",
                "GROUP BY Salesperson\n",
                "HAVING COUNT(CustomerID) > 100\n",
                "ORDER BY Salesperson;"
            ],
            "metadata": {
                "language": "sql",
                "azdata_cell_guid": "f9965421-b528-45a6-9107-7115ff3fbe33"
            },
            "outputs": [],
            "execution_count": 19
        },
        {
            "cell_type": "markdown",
            "source": [
                "## End of Lab05"
            ],
            "metadata": {
                "language": "sql",
                "azdata_cell_guid": "8a0c9868-6a31-4a32-9f04-502baedd1adc"
            },
            "attachments": {}
        }
    ]
}