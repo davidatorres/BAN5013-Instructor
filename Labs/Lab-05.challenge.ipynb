{
    "metadata": {
        "kernelspec": {
            "name": "SQL",
            "display_name": "SQL",
            "language": "sql"
        },
        "language_info": {
            "name": "sql",
            "version": ""
        }
    },
    "nbformat_minor": 2,
    "nbformat": 4,
    "cells": [
        {
            "cell_type": "markdown",
            "source": [
                "# Lab 05 - Challenges\n",
                "\n",
                "## Challenge 1: Retrieve order shipping information\n",
                "\n",
                "The operations manager wants reports about order shipping based on data in the SalesLT.SalesOrderHeader table.\n",
                "\n",
                "1. Retrieve the order ID and freight cost of each order.\n",
                "   - Write a query to return the order ID for each order, together with the the Freight value rounded to two decimal places in a column named FreightCost."
            ],
            "metadata": {
                "azdata_cell_guid": "8463c391-739d-4f0d-9715-86df627ebdab"
            },
            "attachments": {}
        },
        {
            "cell_type": "code",
            "source": [
                "--- Your code here"
            ],
            "metadata": {
                "azdata_cell_guid": "5d2af926-f350-4c45-ad5e-acbeb376dac2",
                "language": "sql"
            },
            "outputs": [],
            "execution_count": null
        },
        {
            "cell_type": "markdown",
            "source": [
                "2. Filter the product sales list to include only products that cost over 1,000\n",
                "    - Modify the previous query to include sales totals for products that have a list price of more than 1000."
            ],
            "metadata": {
                "azdata_cell_guid": "20ed5b69-d0a2-4be1-aec0-5c6d85578fbe"
            },
            "attachments": {}
        },
        {
            "cell_type": "code",
            "source": [
                "--- Your code here"
            ],
            "metadata": {
                "language": "sql",
                "azdata_cell_guid": "8e11cd4b-3d87-4011-ae44-68d27a3d8418"
            },
            "outputs": [],
            "execution_count": null
        },
        {
            "cell_type": "markdown",
            "source": [
                "3. Filter the product sales groups to include only total sales over 20,000\n",
                "   - Modify the previous query to only include only product groups with a total sales value greater than 20,000."
            ],
            "metadata": {
                "language": "sql",
                "azdata_cell_guid": "b09dce85-d4be-4fc1-acb4-9a511fae4c89"
            },
            "attachments": {}
        },
        {
            "cell_type": "code",
            "source": [
                "--- Your code here"
            ],
            "metadata": {
                "language": "sql",
                "azdata_cell_guid": "58c86834-83cb-4697-b1f1-23251f64c117"
            },
            "outputs": [],
            "execution_count": null
        },
        {
            "cell_type": "markdown",
            "source": [
                "* * *\n",
                "\n",
                "## Challenge 2: Aggregate product sales\n",
                "\n",
                "The sales manager would like reports that include aggregated information about product sales.\n",
                "\n",
                "1. Retrieve total sales by product\n",
                "   - Write a query to retrieve a list of the product names from the SalesLT.Product table and the total revenue for each product calculated as the sum of LineTotal from the SalesLT.SalesOrderDetail table, with the results sorted in descending order of total revenue."
            ],
            "metadata": {
                "language": "sql",
                "azdata_cell_guid": "e6519b60-982a-41d6-ae97-1d9d5483aa11"
            },
            "attachments": {}
        },
        {
            "cell_type": "code",
            "source": [
                "--- Your code here"
            ],
            "metadata": {
                "language": "sql",
                "azdata_cell_guid": "0f43fd78-83ef-4916-ab29-ea20a2903421",
                "tags": []
            },
            "outputs": [],
            "execution_count": null
        },
        {
            "cell_type": "markdown",
            "source": [
                "2. Filter the product sales list to include only products that cost over 1,000\n",
                "   - Modify the previous query to include sales totals for products that have a list price of more than 1000.\n",
                ""
            ],
            "metadata": {
                "language": "sql",
                "azdata_cell_guid": "71340017-6b07-477e-ad9a-90d57b8d92d4"
            },
            "attachments": {}
        },
        {
            "cell_type": "code",
            "source": [
                "--- Your code here"
            ],
            "metadata": {
                "language": "sql",
                "azdata_cell_guid": "ae42be8d-ef49-458b-ac85-e75a702c9fc7"
            },
            "outputs": [],
            "execution_count": null
        },
        {
            "cell_type": "markdown",
            "source": [
                "3. Filter the product sales groups to include only total sales over 20,000\n",
                "   - Modify the previous query to only include only product groups with a total sales value greater than 20,000."
            ],
            "metadata": {
                "language": "sql",
                "azdata_cell_guid": "422ed1eb-7d6b-4a8c-a48d-8374845379c3"
            },
            "attachments": {}
        },
        {
            "cell_type": "code",
            "source": [
                "--- Your code here"
            ],
            "metadata": {
                "language": "sql",
                "azdata_cell_guid": "c14e5c1d-e1fc-411e-8c72-5b23801fd0e2"
            },
            "outputs": [],
            "execution_count": null
        },
        {
            "cell_type": "markdown",
            "source": [
                "## End of Challenge 05"
            ],
            "metadata": {
                "language": "sql",
                "azdata_cell_guid": "89585e5b-edce-40cc-91c8-18abf6e2f554"
            },
            "attachments": {}
        }
    ]
}