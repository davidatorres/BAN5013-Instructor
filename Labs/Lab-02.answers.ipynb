{
    "metadata": {
        "kernelspec": {
            "name": "SQL",
            "display_name": "SQL",
            "language": "sql"
        },
        "language_info": {
            "name": "sql",
            "version": ""
        },
        "orig_nbformat": 4
    },
    "nbformat_minor": 2,
    "nbformat": 4,
    "cells": [
        {
            "cell_type": "markdown",
            "source": [
                "# Lab 02 - Answers\n",
                "## Sort and Filter Query Results\n",
                "\n",
                "In this lab, you’ll use the Transact-SQL SELECT statement to query and filter data in the AdventureWorksLT database. For your reference, the following diagram shows the tables in the database (you may need to resize the pane to see them clearly).\n",
                "\n",
                "![](https://microsoftlearning.github.io/dp-080-Transact-SQL/Instructions/Labs/images/adventureworks-erd.png)\n",
                "\n",
                "- Open Azure Data Studio application\n",
                "- Open Lab-02.ipynb notebook\n",
                "- Attach to AdventureWorksLT database\n",
                "- Follow instructions to perform T-SQL queries"
            ],
            "metadata": {
                "azdata_cell_guid": "8186a696-5d94-4538-bc6a-3a580621306d"
            },
            "attachments": {}
        },
        {
            "cell_type": "markdown",
            "source": [
                "* * *\n",
                "## Sort results using the ORDER BY clause\n",
                "It’s often useful to sort query results into a particular order.\n",
                "\n",
                "1. Write a query that returns the Name and List Price from the Product table.\n",
                "2. Run the query and note that the results are presented in no particular order.\n",
                ""
            ],
            "metadata": {
                "azdata_cell_guid": "5d5c9d16-9b88-4c49-a54a-b658b49f4ab2"
            },
            "attachments": {}
        },
        {
            "cell_type": "code",
            "source": [
                "SELECT Name, ListPrice\n",
                "FROM SalesLT.Product;"
            ],
            "metadata": {
                "azdata_cell_guid": "b9c9afb2-1eaf-4c80-87ba-67fb9f5ba69f",
                "language": "sql"
            },
            "outputs": [],
            "execution_count": null
        },
        {
            "cell_type": "markdown",
            "source": [
                "3. Modify the query to add an ORDER BY clause that sorts the results by Name.\n",
                "4. Run the query and review the results. This time the products are listed in alphabetical order by Name."
            ],
            "metadata": {
                "azdata_cell_guid": "f5b7cc7c-df8a-4342-b69e-9c544093cdd5"
            },
            "attachments": {}
        },
        {
            "cell_type": "code",
            "source": [
                "SELECT Name, ListPrice\n",
                "FROM SalesLT.Product\n",
                "ORDER BY Name;"
            ],
            "metadata": {
                "azdata_cell_guid": "70d06db0-5ba8-4f5d-973b-467ee6ed17ac",
                "language": "sql"
            },
            "outputs": [],
            "execution_count": null
        },
        {
            "cell_type": "markdown",
            "source": [
                "5. Modify the query to sort the results by ListPrice.\n",
                "6. Run the query and note that the results are listed in ascending order of **ListPrice**. By default, the **ORDER BY** clause applies an ascending sort order to the specified field."
            ],
            "metadata": {
                "azdata_cell_guid": "86f5d550-5312-4520-9dda-12fb62e4aca9"
            },
            "attachments": {}
        },
        {
            "cell_type": "code",
            "source": [
                "SELECT Name, ListPrice\n",
                "FROM SalesLT.Product\n",
                "ORDER BY ListPrice;"
            ],
            "metadata": {
                "azdata_cell_guid": "2cb88e35-0b6a-4059-a139-b49537b9a6a0",
                "language": "sql"
            },
            "outputs": [],
            "execution_count": null
        },
        {
            "cell_type": "markdown",
            "source": [
                "7. Modify the query to sort the results into descending order of **ListPrice**.\n",
                "8. Run the query and note that the results now show the most expensive items first."
            ],
            "metadata": {
                "language": "sql",
                "azdata_cell_guid": "31b7769e-d670-446d-9508-3e4fc4d265e9"
            },
            "attachments": {}
        },
        {
            "cell_type": "code",
            "source": [
                "SELECT Name, ListPrice\n",
                "FROM SalesLT.Product\n",
                "ORDER BY ListPrice DESC, Name ASC;"
            ],
            "metadata": {
                "language": "sql",
                "azdata_cell_guid": "1f01aafa-3b1a-49f7-9974-9f24d66f7f5a"
            },
            "outputs": [],
            "execution_count": null
        },
        {
            "cell_type": "markdown",
            "source": [
                "9. Modify the query as shown below to sort the results into descending order of **ListPrice**, and then into ascending order of **Name**.\n",
                "10. Run the query and review the results. Note that they are sorted into descending order of **ListPrice**, and each set of products with the same price is sorted in ascending order of **Name**."
            ],
            "metadata": {
                "language": "sql",
                "azdata_cell_guid": "268cbaa5-b42d-48d1-85aa-f70b1a284368"
            },
            "attachments": {}
        },
        {
            "cell_type": "code",
            "source": [
                "SELECT Name, ListPrice\n",
                "FROM SalesLT.Product\n",
                "ORDER BY ListPrice DESC, Name ASC;"
            ],
            "metadata": {
                "language": "sql",
                "azdata_cell_guid": "996717c9-124a-46a4-9f3c-d589cf5deadf"
            },
            "outputs": [],
            "execution_count": null
        },
        {
            "cell_type": "markdown",
            "source": [
                "* * *\n",
                "## Restrict results using TOP\n",
                "Sometimes you only want to return a specific number of rows. For example, you might want to find the twenty most expensive products.\n",
                "1. Modify the existing query to return the top 20 **Name** and **ListPrice** of all products.\n",
                "2. Run the query and note that the results contain the first twenty products in descending order of ListPrice. Update the query to  include an ORDER BY clause with **ListPrice** in descending order."
            ],
            "metadata": {
                "language": "sql",
                "azdata_cell_guid": "db26a650-0292-412d-814d-5dfd59e4db05"
            },
            "attachments": {}
        },
        {
            "cell_type": "code",
            "source": [
                "SELECT TOP (20) Name, ListPrice\n",
                "FROM SalesLT.Product\n",
                "ORDER BY ListPrice DESC;"
            ],
            "metadata": {
                "language": "sql",
                "azdata_cell_guid": "1aff60d9-79a3-4a29-abc0-ea09849eed6c"
            },
            "outputs": [],
            "execution_count": null
        },
        {
            "cell_type": "markdown",
            "source": [
                "3. Modify the query to add the **WITH TIES** parameter following TOP clause, and re-run it.\n",
                "\n",
                "**HINT:** Use the following syntax:\n",
                "```\n",
                "SELECT TOP(n) WITH TIES column_name1, column_name2...\n",
                "```\n",
                "4. This time, there are 21 rows in the results, because there are multiple products that share the same price, one of which wasn’t included when ties were ignored by the previous query."
            ],
            "metadata": {
                "language": "sql",
                "azdata_cell_guid": "04ab8e48-5ef9-47e0-b14a-24c0a6b482cc"
            },
            "attachments": {}
        },
        {
            "cell_type": "code",
            "source": [
                "SELECT TOP (20) WITH TIES Name, ListPrice\n",
                "FROM SalesLT.Product\n",
                "ORDER BY ListPrice DESC;"
            ],
            "metadata": {
                "language": "sql",
                "azdata_cell_guid": "045b4e0b-3149-4ca4-8bfe-331c201d1119"
            },
            "outputs": [],
            "execution_count": null
        },
        {
            "cell_type": "markdown",
            "source": [
                "5. Modify the query to add the **TOP (20) PERCENT WITH TIES** parameters, and re-run it.\n",
                "6. Note that this time the results contain the 20% most expensive products.\n",
                ""
            ],
            "metadata": {
                "language": "sql",
                "azdata_cell_guid": "7a7a5e1c-bab7-44b0-b25b-0a5152aaaa6d"
            },
            "attachments": {}
        },
        {
            "cell_type": "code",
            "source": [
                "SELECT TOP (20) PERCENT WITH TIES Name, ListPrice\n",
                "FROM SalesLT.Product\n",
                "ORDER BY ListPrice DESC;"
            ],
            "metadata": {
                "language": "sql",
                "azdata_cell_guid": "159c8639-922a-4de9-9fd9-cc177a3dbd96"
            },
            "outputs": [],
            "execution_count": null
        },
        {
            "cell_type": "markdown",
            "source": [
                "* * *\n",
                "## Retrieve pages of results with OFFSET and FETCH\n",
                "User interfaces and reports often present large volumes of data as pages, you make them easier to navigate on a screen.\n",
                "1. Using the following query to return product Name and ListPrice values.\n",
                "```sql\n",
                "SELECT Name, ListPrice\n",
                "FROM SalesLT.Product\n",
                "ORDER BY Name OFFSET 0 ROWS FETCH NEXT 10 ROWS ONLY;\n",
                "```\n",
                "2. Run the query and note the effect of the **OFFSET** and **FETCH** parameters of the **ORDER BY** clause. The results start at the 0 position (the beginning of the result set) and include only the next 10 rows, essentially defining the first page of results with 10 rows per page.\n",
                ""
            ],
            "metadata": {
                "language": "sql",
                "azdata_cell_guid": "d110d102-c0cb-44b9-b2fe-719b26f19788"
            },
            "attachments": {}
        },
        {
            "cell_type": "code",
            "source": [
                "SELECT Name, ListPrice\n",
                "FROM SalesLT.Product\n",
                "ORDER BY Name OFFSET 0 ROWS FETCH NEXT 10 ROWS ONLY;"
            ],
            "metadata": {
                "language": "sql",
                "azdata_cell_guid": "72708365-0831-46ac-9056-5875ddd55e1e"
            },
            "outputs": [],
            "execution_count": null
        },
        {
            "cell_type": "markdown",
            "source": [
                "3. Modify and run the query to retrieve the next page of results."
            ],
            "metadata": {
                "language": "sql",
                "azdata_cell_guid": "cd6aee0c-bcd6-41b2-a40e-2100a3714f2e"
            },
            "attachments": {}
        },
        {
            "cell_type": "code",
            "source": [
                "SELECT Name, ListPrice\n",
                "FROM SalesLT.Product\n",
                "ORDER BY Name OFFSET 10 ROWS FETCH NEXT 10 ROWS ONLY;"
            ],
            "metadata": {
                "language": "sql",
                "azdata_cell_guid": "50274656-b6ea-410f-a428-db404000659a"
            },
            "outputs": [],
            "execution_count": null
        },
        {
            "cell_type": "markdown",
            "source": [
                "* * * \n",
                "## Use the ALL and DISTINCT options\n",
                "Often, multiple rows in a table may contain the same values for a given subset of fields. For example, a table of products might contain a **Color** field that identifies the color of a given product. It’s not unreasonable to assume that there may be multiple products of the same color. Similarly, the table might contain a **Size** field; and again it’s not unreasonable to assume that there may be multiple products of the same size; or even multiple products with the same combination of size and color.\n",
                "\n",
                "1. Create a query that returns the **Color** column for all the rows in the **Product** table. Run the query and examine the results.\n",
                ""
            ],
            "metadata": {
                "language": "sql",
                "azdata_cell_guid": "18aee174-6b17-4fbd-88f5-903cfa8313f6"
            },
            "attachments": {}
        },
        {
            "cell_type": "code",
            "source": [
                "SELECT Color\n",
                "FROM SalesLT.Product;"
            ],
            "metadata": {
                "language": "sql",
                "azdata_cell_guid": "f43cbacb-2d31-478b-a9d7-ea890a89c72f"
            },
            "outputs": [],
            "execution_count": null
        },
        {
            "cell_type": "markdown",
            "source": [
                "2. Run the query again, but this time use the **ALL** keyword on the **Color** column. The ALL parameter is the default behavior, and is applied implicitly to return a row for every record that meets the query criteria."
            ],
            "metadata": {
                "language": "sql",
                "azdata_cell_guid": "6a4e86b3-7b9c-4963-9e32-1f8622b8e0e6"
            },
            "attachments": {}
        },
        {
            "cell_type": "code",
            "source": [
                "SELECT ALL Color\n",
                "FROM SalesLT.Product;"
            ],
            "metadata": {
                "language": "sql",
                "azdata_cell_guid": "14985034-be96-4f18-809f-2ab010396441"
            },
            "outputs": [],
            "execution_count": null
        },
        {
            "cell_type": "markdown",
            "source": [
                "3. Run the query again, but this time use the **DISTINCT** keyword to return only distinct values in the **Color** column. Notice that the results now include only one instance of each color.\n",
                "\n",
                "This ability to remove duplicates from the results can often be useful - for example to retrieve values in order to populate a drop-down list of color options in a user interface."
            ],
            "metadata": {
                "language": "sql",
                "azdata_cell_guid": "8a0c9868-6a31-4a32-9f04-502baedd1adc"
            },
            "attachments": {}
        },
        {
            "cell_type": "code",
            "source": [
                "SELECT DISTINCT Color\n",
                "FROM SalesLT.Product;"
            ],
            "metadata": {
                "language": "sql",
                "azdata_cell_guid": "c4843b94-3d6b-49cb-83fa-ee9950867752"
            },
            "outputs": [],
            "execution_count": null
        },
        {
            "cell_type": "markdown",
            "source": [
                "4. Modify the query to add the **Size** field.\n",
                "5. Run the modified query and note that it returns each unique combination of color and size."
            ],
            "metadata": {
                "language": "sql",
                "azdata_cell_guid": "62c901ab-865d-4227-aaa9-c1882746c3ba"
            },
            "attachments": {}
        },
        {
            "cell_type": "code",
            "source": [
                "SELECT DISTINCT Color, Size\n",
                "FROM SalesLT.Product;"
            ],
            "metadata": {
                "language": "sql",
                "azdata_cell_guid": "3d305177-7ad7-4caf-b5bb-49d0075bcb88"
            },
            "outputs": [],
            "execution_count": null
        },
        {
            "cell_type": "markdown",
            "source": [
                "* * *\n",
                "## Filter results with the WHERE clause\n",
                "Most queries for application development or reporting involve filtering the data to match specified criteria. You typically apply filtering criteria as a predicate in a **WHERE** clause of a query.\n",
                "\n",
                "1. Write a query to return the Product Name, Color, and Size from the Product table for all Product Models equal to 6 and sort by Product Name.\n",
                "\n",
                "2. Run the query and review the results, which contain the **Name**, **Color**, and **Size** for each product with a ProductModelID value of 6 (this is the ID for the HL Road Frame product model, of which there are multiple variants)."
            ],
            "metadata": {
                "language": "sql",
                "azdata_cell_guid": "87be4ed5-c689-44f6-8408-2778512016d6"
            },
            "attachments": {}
        },
        {
            "cell_type": "code",
            "source": [
                "SELECT Name, Color, Size\n",
                "FROM SalesLT.Product\n",
                "WHERE ProductModelID = 6\n",
                "ORDER BY Name;"
            ],
            "metadata": {
                "language": "sql",
                "azdata_cell_guid": "65239429-51ba-415a-8513-aadfcd5d3107"
            },
            "outputs": [],
            "execution_count": null
        },
        {
            "cell_type": "markdown",
            "source": [
                "3. Update the query to return all products with a Product Model other than 6.\n",
                "4. Run the query and review the results, noting that they contain all products with a **ProductModelID** other than 6.\n",
                ""
            ],
            "metadata": {
                "language": "sql",
                "azdata_cell_guid": "a8665d55-2ebe-454d-961e-3dac45c100ce"
            },
            "attachments": {}
        },
        {
            "cell_type": "code",
            "source": [
                "SELECT Name, Color, Size\n",
                "FROM SalesLT.Product\n",
                "WHERE ProductModelID <> 6\n",
                "ORDER BY Name;"
            ],
            "metadata": {
                "language": "sql",
                "azdata_cell_guid": "6efcd2c7-bc9f-42ec-b911-8cb8f9815e4b"
            },
            "outputs": [],
            "execution_count": null
        },
        {
            "cell_type": "markdown",
            "source": [
                "5. Update the query to return all products with a ListPrice greater than 1000.00\n",
                "6. Run the query and review the results, noting that they contain all products with a ListPrice greater than 1000.00."
            ],
            "metadata": {
                "language": "sql",
                "azdata_cell_guid": "b8d376a2-17e5-484f-aadc-0eecb23b7b05"
            },
            "attachments": {}
        },
        {
            "cell_type": "code",
            "source": [
                "SELECT Name, ListPrice\n",
                "FROM SalesLT.Product\n",
                "WHERE ListPrice > 1000.00\n",
                "ORDER BY ListPrice;"
            ],
            "metadata": {
                "language": "sql",
                "azdata_cell_guid": "4780de52-2d85-41d8-8f53-af8046f165eb"
            },
            "outputs": [],
            "execution_count": null
        },
        {
            "cell_type": "markdown",
            "source": [
                "7. Modify the query to return products with names that start with 'HL Road Frame'. ***Hint:*** Use the ***LIKE** operator and percent sign (%) wild-card character.\n",
                "8. Run the query and review the results, noting that the LIKE operator enables you to match string patterns. The % character in the predicate is a wildcard for one or more characters, so the query returns all rows where the Name is HL Road Frame followed by any string.\n",
                "\n",
                "The LIKE operator can be used to define complex pattern matches based on regular expressions, which can be useful when dealing with string data that follows a predictable pattern."
            ],
            "metadata": {
                "language": "sql",
                "azdata_cell_guid": "cddb0ff8-b5d0-4a08-8955-1a6541037a28"
            },
            "attachments": {}
        },
        {
            "cell_type": "code",
            "source": [
                "SELECT Name, ListPrice\n",
                "FROM SalesLT.Product\n",
                "WHERE Name LIKE 'HL Road Frame %';"
            ],
            "metadata": {
                "language": "sql",
                "azdata_cell_guid": "e8977e10-098e-4913-ab77-4387576ce8bd"
            },
            "outputs": [],
            "execution_count": null
        },
        {
            "cell_type": "markdown",
            "source": [
                "The LIKE operator can be used to define complex pattern matches based on regular expressions, which can be useful when dealing with string data that follows a predictable pattern.\n",
                "\n",
                "9. Copy the query below, and run it.\n",
                "\n",
                "```sql\n",
                "SELECT Name, ListPrice\n",
                "FROM SalesLT.Product\n",
                "WHERE ProductNumber LIKE 'FR-_[0-9][0-9]_-[0-9][0-9]';\n",
                "```\n",
                "10. Review the results. This time the results include products with a ProductNumber that matches patterns similar to FR-xNNx-NN (in which x is a letter and N is a numeral).\n",
                "\n",
                "***Tip:*** To learn more about pattern-matching with the LIKE operator, see the [Transact-SQL documentation](https://learn.microsoft.com/en-us/sql/t-sql/language-elements/like-transact-sql?view=sql-server-ver16)."
            ],
            "metadata": {
                "language": "sql",
                "azdata_cell_guid": "7057608d-dc11-4170-ad3f-1fea4a4bb006"
            },
            "attachments": {}
        },
        {
            "cell_type": "code",
            "source": [
                "SELECT Name, ListPrice\n",
                "FROM SalesLT.Product\n",
                "WHERE ProductNumber LIKE 'FR-_[0-9][0-9]_-[0-9][0-9]';"
            ],
            "metadata": {
                "language": "sql",
                "azdata_cell_guid": "d588c3e7-eae9-47c9-a8de-55255dcac705"
            },
            "outputs": [],
            "execution_count": null
        },
        {
            "cell_type": "markdown",
            "source": [
                "11. Modify the previous query and return rows with the **SellEndDate** of the Product table is not NULL.\n",
                "\n",
                "12. Run the query and note that to filter based on NULL values you must use IS NULL (or IS NOT NULL) you cannot compare a NULL value using the = operator."
            ],
            "metadata": {
                "language": "sql",
                "azdata_cell_guid": "bd0d5f54-48b4-4094-9fe1-ca8555840f5d"
            },
            "attachments": {}
        },
        {
            "cell_type": "code",
            "source": [
                "SELECT Name, ListPrice\n",
                "FROM SalesLT.Product\n",
                "WHERE SellEndDate IS NOT NULL;"
            ],
            "metadata": {
                "language": "sql",
                "azdata_cell_guid": "273d18ff-efb8-4473-9735-77cef89ce3e8"
            },
            "outputs": [],
            "execution_count": null
        },
        {
            "cell_type": "markdown",
            "source": [
                "13. Now try the following query, which uses the BETWEEN operator, as shown, to define a filter based on values within a defined range.\n",
                "\n",
                "```sql\n",
                "SELECT Name\n",
                "FROM SalesLT.Product\n",
                "WHERE SellEndDate BETWEEN '2006/1/1' AND '2006/12/31';\n",
                "```\n",
                "\n",
                "14. Run the query and review the results, which contain products that the company stopped selling in 2006."
            ],
            "metadata": {
                "language": "sql",
                "azdata_cell_guid": "a1aba217-19d9-4e3f-8930-776a770d6b74"
            },
            "attachments": {}
        },
        {
            "cell_type": "code",
            "source": [
                "SELECT Name\n",
                "FROM SalesLT.Product\n",
                "WHERE SellEndDate BETWEEN '2006/1/1' AND '2006/12/31';"
            ],
            "metadata": {
                "language": "sql",
                "azdata_cell_guid": "73f56d04-cf96-4345-b44f-bea01564cdca"
            },
            "outputs": [],
            "execution_count": null
        },
        {
            "cell_type": "markdown",
            "source": [
                "15. Copy and run the following query, which retrieves products with a ProductCategoryID value that is in a specified list.\n",
                "\n",
                "```sql\n",
                "SELECT ProductCategoryID, Name, ListPrice\n",
                "FROM SalesLT.Product\n",
                "WHERE ProductCategoryID IN (5,6,7);\n",
                "```\n",
                ""
            ],
            "metadata": {
                "language": "sql",
                "azdata_cell_guid": "73ceba71-de49-44a1-bfdd-3e6a4464cc5a"
            },
            "attachments": {}
        },
        {
            "cell_type": "code",
            "source": [
                "SELECT ProductCategoryID, Name, ListPrice\n",
                "FROM SalesLT.Product\n",
                "WHERE ProductCategoryID IN (5,6,7);"
            ],
            "metadata": {
                "language": "sql",
                "azdata_cell_guid": "fb3c14c3-4c41-41f4-95fc-f69222536740",
                "tags": []
            },
            "outputs": [],
            "execution_count": null
        },
        {
            "cell_type": "markdown",
            "source": [
                "16. Modify the previous query and add the **SellEndDate** and use the **AND** operator to return Products in category list and have a **SELLEndDate** of NULL."
            ],
            "metadata": {
                "language": "sql",
                "azdata_cell_guid": "baa20bd5-6625-4a42-a173-cbc878a43029"
            },
            "attachments": {}
        },
        {
            "cell_type": "code",
            "source": [
                "SELECT ProductCategoryID, Name, ListPrice, SellEndDate\n",
                "FROM SalesLT.Product\n",
                "WHERE ProductCategoryID IN (5,6,7) AND SellEndDate IS NULL;"
            ],
            "metadata": {
                "language": "sql",
                "azdata_cell_guid": "20000210-4288-4513-a5fb-7f71f747d59a"
            },
            "outputs": [],
            "execution_count": null
        },
        {
            "cell_type": "markdown",
            "source": [
                "17. Create a query that returns the Product Name, Category Id and Product Number from the Product table when the Product Number starts with 'FR' or is in the category list of 5, 6, or 7.\n",
                "\n",
                "***Hint:*** Use the `LIKE` operator with the wild-card character and the `IN` operator."
            ],
            "metadata": {
                "language": "sql",
                "azdata_cell_guid": "a7400cf5-87a0-4a87-b58d-cf58d89ee541"
            },
            "attachments": {}
        },
        {
            "cell_type": "code",
            "source": [
                "SELECT Name, ProductCategoryID, ProductNumber\n",
                "FROM SalesLT.Product\n",
                "WHERE ProductNumber LIKE 'FR%' OR ProductCategoryID IN (5,6,7);"
            ],
            "metadata": {
                "language": "sql",
                "azdata_cell_guid": "483d5c11-9a8c-4735-ba3e-d2f8909cb58d"
            },
            "outputs": [],
            "execution_count": null
        },
        {
            "cell_type": "markdown",
            "source": [
                "## End of Lab 2"
            ],
            "metadata": {
                "language": "sql",
                "azdata_cell_guid": "1bce388b-8146-4208-9600-48602cc7171c"
            },
            "attachments": {}
        }
    ]
}