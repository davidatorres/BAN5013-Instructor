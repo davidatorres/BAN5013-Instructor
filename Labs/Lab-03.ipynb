{
    "metadata": {
        "kernelspec": {
            "name": "SQL",
            "display_name": "SQL",
            "language": "sql"
        },
        "language_info": {
            "name": "sql",
            "version": ""
        },
        "orig_nbformat": 4
    },
    "nbformat_minor": 2,
    "nbformat": 4,
    "cells": [
        {
            "cell_type": "markdown",
            "source": [
                "# Lab 03\n",
                "## Query Multiple Tables with Joins\n",
                "\n",
                "In this lab, you’ll use the Transact-SQL SELECT statement to query multiple tables in the AdventureWorksLT database. For your reference, the following diagram shows the tables in the database (you may need to resize the pane to see them clearly).\n",
                "\n",
                "![](https://microsoftlearning.github.io/dp-080-Transact-SQL/Instructions/Labs/images/adventureworks-erd.png)\n",
                "\n",
                "- Open Azure Data Studio application\n",
                "- Open Lab-03.ipynb notebook\n",
                "- Attach to AdventureWorksLT database\n",
                "- Follow instructions to perform T-SQL queries"
            ],
            "metadata": {
                "azdata_cell_guid": "8186a696-5d94-4538-bc6a-3a580621306d"
            },
            "attachments": {}
        },
        {
            "cell_type": "markdown",
            "source": [
                "* * *\n",
                "## Use of inner joins\n",
                "An inner join is used to find related data in two tables. For example, suppose you need to retrieve data about a product and its category from the SalesLT.Product and SalesLT.ProductCategory tables. You can find the relevant product category record for a product based on its ProductCategoryID field; which is a foreign-key in the product table that matches a primary key in the product category table.\n",
                "\n",
                "1. Write an `INNER JOIN` query that returns the Product Name and Category Name as \"Category\" from the Product and Product Category tables.\n",
                "2. Run the query, your results should the ProductName from the products table and the corresponding Category from the product category table.\n",
                ""
            ],
            "metadata": {
                "azdata_cell_guid": "5d5c9d16-9b88-4c49-a54a-b658b49f4ab2"
            },
            "attachments": {}
        },
        {
            "cell_type": "code",
            "source": [
                "--- Your code here"
            ],
            "metadata": {
                "azdata_cell_guid": "b9c9afb2-1eaf-4c80-87ba-67fb9f5ba69f",
                "language": "sql"
            },
            "outputs": [],
            "execution_count": null
        },
        {
            "cell_type": "markdown",
            "source": [
                "Because the query uses an `INNER JOIN`, any products that do not have corresponding categories, and any categories that contain no products are omitted from the results.\n",
                "\n",
                "3. Modify the query to remove the `INNER` keyword, and re-run it.\n",
                "4. The results should be the same as before. `INNER` joins are the default kind of join."
            ],
            "metadata": {
                "azdata_cell_guid": "f5b7cc7c-df8a-4342-b69e-9c544093cdd5"
            },
            "attachments": {}
        },
        {
            "cell_type": "code",
            "source": [
                "--- Your code here"
            ],
            "metadata": {
                "azdata_cell_guid": "70d06db0-5ba8-4f5d-973b-467ee6ed17ac",
                "language": "sql"
            },
            "outputs": [],
            "execution_count": null
        },
        {
            "cell_type": "markdown",
            "source": [
                "5. Modify the query to assign aliases to the tables in the `JOIN` clause. Give the Product table the alias 'p' and the Category table the alias 'c'.\n",
                "6. Run the modified query and confirm that it returns the same results as before. The use of table aliases can greatly simplify a query, particularly when multiple joins must be used."
            ],
            "metadata": {
                "azdata_cell_guid": "86f5d550-5312-4520-9dda-12fb62e4aca9"
            },
            "attachments": {}
        },
        {
            "cell_type": "code",
            "source": [
                "--- Your code here"
            ],
            "metadata": {
                "azdata_cell_guid": "2cb88e35-0b6a-4059-a139-b49537b9a6a0",
                "language": "sql"
            },
            "outputs": [],
            "execution_count": null
        },
        {
            "cell_type": "markdown",
            "source": [
                "7. Copy and complete the following query with the following code, which retrieves sales order data from the **SalesLT.SalesOrderHeader**, **SalesLT.SalesOrderDetail**, and **SalesLT.Product** tables:\n",
                "```sql\n",
                "SELECT oh.OrderDate, oh.SalesOrderNumber, p.Name As ProductName, od.OrderQty, od.UnitPrice, od.LineTotal\n",
                "FROM SalesLT.SalesOrderHeader AS __\n",
                "JOIN SalesLT.SalesOrderDetail AS __\n",
                "    ON od.SalesOrderID = oh.SalesOrderID\n",
                "JOIN SalesLT.Product AS __\n",
                "    ON od.ProductID = p.ProductID\n",
                "ORDER BY oh.OrderDate, oh.SalesOrderID, od.SalesOrderDetailID;\n",
                "```\n",
                "8. Run the modified query and note that it returns data from all three tables."
            ],
            "metadata": {
                "language": "sql",
                "azdata_cell_guid": "31b7769e-d670-446d-9508-3e4fc4d265e9"
            },
            "attachments": {}
        },
        {
            "cell_type": "code",
            "source": [
                "--- Your code here"
            ],
            "metadata": {
                "language": "sql",
                "azdata_cell_guid": "1f01aafa-3b1a-49f7-9974-9f24d66f7f5a"
            },
            "outputs": [],
            "execution_count": null
        },
        {
            "cell_type": "markdown",
            "source": [
                "* * *\n",
                "## Use of outer joins\n",
                "\n",
                "An outer join is used to retrieve all rows from one table, and any corresponding rows from a related table. In cases where a row in the outer table has no corresponding rows in the related table, NULL values are returned for the related table fields. For example, suppose you want to retrieve a list of all customers and any orders they have placed, including customers who have registered but never placed an order.\n",
                "\n",
                "1. Copy and complete the following `OUTER JOIN` query that returns the Customers who have registered but not placed an order are shown with a NULL order number.\n",
                "\n",
                "```\n",
                "SELECT __.FirstName, __.LastName, __.SalesOrderNumber\n",
                "FROM SalesLT.Customer AS c\n",
                "LEFT OUTER JOIN SalesLT.SalesOrderHeader AS oh\n",
                "    ON __.CustomerID = __.CustomerID\n",
                "ORDER BY __.CustomerID;\n",
                "```\n",
                "2. Run the query and note that the results contain data for every customer. If a customer has placed an order, the order number is shown."
            ],
            "metadata": {
                "language": "sql",
                "azdata_cell_guid": "268cbaa5-b42d-48d1-85aa-f70b1a284368"
            },
            "attachments": {}
        },
        {
            "cell_type": "code",
            "source": [
                "--- Your code here"
            ],
            "metadata": {
                "language": "sql",
                "azdata_cell_guid": "996717c9-124a-46a4-9f3c-d589cf5deadf"
            },
            "outputs": [],
            "execution_count": null
        },
        {
            "cell_type": "markdown",
            "source": [
                "Note the use of the `LEFT` keyword. This identifies which of the tables in the join is the outer table (the one from which all rows should be preserved). In this case, the join is between the **Customer** and **SalesOrderHeader** tables, so a `LEFT` join designates Customer as the outer table. Had a `RIGHT` join been used, the query would have returned all records from the **SalesOrderHeader** table and only matching data from the **Customer** table (in other words, all orders including those for which there was no matching customer record). You can also use a `FULL` outer join to preserve unmatched rows from both sides of the join (all customers, including those who haven’t placed an order; and all orders, including those with no matching customer), though in practice this is used less frequently.\n",
                "\n",
                "3. Modify the previous query removing the `OUTER` keyword.\n",
                "4. Run the query and review the results, which should be the same as before. Using the `LEFT` (or `RIGHT`) keyword automatically identifies the join as an `OUTER` join."
            ],
            "metadata": {
                "language": "sql",
                "azdata_cell_guid": "db26a650-0292-412d-814d-5dfd59e4db05"
            },
            "attachments": {}
        },
        {
            "cell_type": "code",
            "source": [
                "--- Your code here"
            ],
            "metadata": {
                "language": "sql",
                "azdata_cell_guid": "1aff60d9-79a3-4a29-abc0-ea09849eed6c"
            },
            "outputs": [],
            "execution_count": null
        },
        {
            "cell_type": "markdown",
            "source": [
                "5. Modify the previous query to take advantage of the fact that it identifies non-matching rows and return only the customers who have not placed any orders.\n",
                "\n",
                "> ***Hint:*** You will need to add a `WHERE` clause to see if the customer has placed an order.\n",
                "\n",
                "6. Run the query and review the results, which contain data for customers who have not placed any orders."
            ],
            "metadata": {
                "language": "sql",
                "azdata_cell_guid": "04ab8e48-5ef9-47e0-b14a-24c0a6b482cc"
            },
            "attachments": {}
        },
        {
            "cell_type": "code",
            "source": [
                "--- Your code here"
            ],
            "metadata": {
                "language": "sql",
                "azdata_cell_guid": "045b4e0b-3149-4ca4-8bfe-331c201d1119",
                "tags": []
            },
            "outputs": [],
            "execution_count": null
        },
        {
            "cell_type": "markdown",
            "source": [
                "7. Copy and complete the following query, which uses outer joins to retrieve Product Name and Sales Order Number using a three table join.\n",
                "\n",
                "```\n",
                " SELECT p.__ As ProductName, oh.SalesOrderNumber\n",
                " FROM SalesLT.Product AS p\n",
                " LEFT JOIN __.SalesOrderDetail AS od\n",
                "     ON p.ProductID = od.__\n",
                " LEFT JOIN SalesLT.SalesOrderHeader AS oh\n",
                "     ON od.SalesOrderID = oh.__\n",
                " ORDER BY p.ProductID;\n",
                "```\n",
                "\n",
                "8. Run the query and note that the results include all products, with order numbers for any that have been purchased. This required a sequence of joins from **Product** to **SalesOrderDetail** to **SalesOrderHeader**. Note that when you join multiple tables like this, after an outer join has been specified in the join sequence, all subsequent outer joins must be of the same direction (`LEFT` or `RIGHT`).\n",
                ""
            ],
            "metadata": {
                "language": "sql",
                "azdata_cell_guid": "7a7a5e1c-bab7-44b0-b25b-0a5152aaaa6d"
            },
            "attachments": {}
        },
        {
            "cell_type": "code",
            "source": [
                "--- Your code here"
            ],
            "metadata": {
                "language": "sql",
                "azdata_cell_guid": "159c8639-922a-4de9-9fd9-cc177a3dbd96"
            },
            "outputs": [],
            "execution_count": null
        },
        {
            "cell_type": "markdown",
            "source": [
                "9. Copy and complete the query below to add an inner join to return category information. When mixing inner and outer joins, it can be helpful to be explicit about the join types by using the `INNER` and `OUTER` keywords.\n",
                "\n",
                "```sql\n",
                "SELECT p.Name As ProductName, c.Name AS Category, oh.SalesOrderNumber\n",
                "FROM SalesLT.Product AS p\n",
                "LEFT OUTER __ SalesLT.SalesOrderDetail AS od\n",
                "    ON p.ProductID = od.ProductID\n",
                "LEFT OUTER __ SalesLT.SalesOrderHeader AS oh\n",
                "    ON od.SalesOrderID = oh.SalesOrderID\n",
                "INNER __ SalesLT.ProductCategory AS __\n",
                "    ON p.ProductCategoryID = c.ProductCategoryID\n",
                "ORDER BY p.ProductID;\n",
                "```\n",
                "\n",
                "10. Run the query and review the results, which include product names, categories, and sales order numbers.\n",
                ""
            ],
            "metadata": {
                "language": "sql",
                "azdata_cell_guid": "d110d102-c0cb-44b9-b2fe-719b26f19788"
            },
            "attachments": {}
        },
        {
            "cell_type": "code",
            "source": [
                "--- Your code here"
            ],
            "metadata": {
                "language": "sql",
                "azdata_cell_guid": "72708365-0831-46ac-9056-5875ddd55e1e"
            },
            "outputs": [],
            "execution_count": null
        },
        {
            "cell_type": "markdown",
            "source": [
                "* * * \n",
                "## Use a cross join\n",
                "A cross join matches all possible combinations of rows from the tables being joined. In practice, it’s rarely used; but there are some specialized cases where it is useful.\n",
                "\n",
                "1. Copy the following query into the code cell.\n",
                "\n",
                "```\n",
                "SELECT p.Name, c.FirstName, c.LastName, c.EmailAddress\n",
                "FROM SalesLT.Product as p\n",
                "CROSS JOIN SalesLT.Customer as c;\n",
                "```\n",
                "\n",
                "2. Run the query and note that the results contain a row for every product and customer combination (which might be used to create a mailing campaign in which an indivdual advertisement for each product is emailed to each customer - a strategy that may not endear the company to its customers!)."
            ],
            "metadata": {
                "language": "sql",
                "azdata_cell_guid": "18aee174-6b17-4fbd-88f5-903cfa8313f6"
            },
            "attachments": {}
        },
        {
            "cell_type": "code",
            "source": [
                "--- Your code here"
            ],
            "metadata": {
                "language": "sql",
                "azdata_cell_guid": "f43cbacb-2d31-478b-a9d7-ea890a89c72f"
            },
            "outputs": [],
            "execution_count": null
        },
        {
            "cell_type": "markdown",
            "source": [
                "* * *\n",
                "## Use a self join\n",
                "A *self* join isn’t actually a specific kind of join, but it’s a technique used to join a table to itself by defining two instances of the table, each with its own alias. This approach can be useful when a row in the table includes a foreign key field that references the primary key of the same table; for example in a table of employees where an employee’s manager is also an employee, or a table of product categories where each category might be a subcategory of another category.\n",
                "\n",
                "1. Copy and complete the following query, which includes a self join between two instances of the Product Category table.\n",
                "\n",
                "```sql\n",
                "SELECT pcat.Name AS ParentCategory, cat.Name AS SubCategory\n",
                "FROM SalesLT.ProductCategory as __\n",
                "JOIN SalesLT.ProductCategory __\n",
                "    ON cat.ParentProductCategoryID = pcat.ProductCategoryID\n",
                "ORDER BY ParentCategory, SubCategory;\n",
                "```\n",
                "2. Run the query and review the results, which reflect the hierarchy of parent and sub categories."
            ],
            "metadata": {
                "language": "sql",
                "azdata_cell_guid": "6a4e86b3-7b9c-4963-9e32-1f8622b8e0e6"
            },
            "attachments": {}
        },
        {
            "cell_type": "code",
            "source": [
                "--- Your code here"
            ],
            "metadata": {
                "language": "sql",
                "azdata_cell_guid": "14985034-be96-4f18-809f-2ab010396441"
            },
            "outputs": [],
            "execution_count": null
        },
        {
            "cell_type": "markdown",
            "source": [
                "## End of Lab03"
            ],
            "metadata": {
                "language": "sql",
                "azdata_cell_guid": "8a0c9868-6a31-4a32-9f04-502baedd1adc"
            },
            "attachments": {}
        }
    ]
}