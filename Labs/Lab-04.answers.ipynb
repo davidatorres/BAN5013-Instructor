{
    "metadata": {
        "kernelspec": {
            "name": "SQL",
            "display_name": "SQL",
            "language": "sql"
        },
        "language_info": {
            "name": "sql",
            "version": ""
        },
        "orig_nbformat": 4
    },
    "nbformat_minor": 2,
    "nbformat": 4,
    "cells": [
        {
            "cell_type": "markdown",
            "source": [
                "# Lab 04 - Answers\n",
                "\n",
                "## Using Subqueries\n",
                "\n",
                "In this lab, you’ll use subqueries to retrieve data from tables in the AdventureWorksLT database. For your reference, the following diagram shows the tables in the database (you may need to resize the pane to see them clearly).\n",
                "\n",
                "![](https://microsoftlearning.github.io/dp-080-Transact-SQL/Instructions/Labs/images/adventureworks-erd.png)\n",
                "\n",
                "- Open Azure Data Studio application\n",
                "- Open Lab-04.ipynb notebook\n",
                "- Attach to AdventureWorksLT database\n",
                "- Follow instructions to perform T-SQL queries"
            ],
            "metadata": {
                "azdata_cell_guid": "8186a696-5d94-4538-bc6a-3a580621306d"
            },
            "attachments": {}
        },
        {
            "cell_type": "markdown",
            "source": [
                "* * *\n",
                "## Use simple subqueries\n",
                "A subquery is a query that is nested within another query. The subquery is often referred to as the inner query, and the query within which it is nested is referred to as the outer query.\n",
                "\n",
                "1. Write an query to get the maximum unit price from the sales order detail table.\n",
                "2. Use the diagram above to locate the tables and columns in the database you'll need.\n",
                "3. Use the `MAX()` function to get the maximum unit price from the **SalesOrderDetail** table.\n",
                "4. Run the query and review the results, which consists of the highest unit price for which any individual product has been sold.\n",
                "\n",
                "\n",
                ""
            ],
            "metadata": {
                "azdata_cell_guid": "5d5c9d16-9b88-4c49-a54a-b658b49f4ab2"
            },
            "attachments": {}
        },
        {
            "cell_type": "code",
            "source": [
                "SELECT MAX(UnitPrice)\n",
                "FROM SalesLT.SalesOrderDetail;"
            ],
            "metadata": {
                "azdata_cell_guid": "b9c9afb2-1eaf-4c80-87ba-67fb9f5ba69f",
                "language": "sql"
            },
            "outputs": [],
            "execution_count": null
        },
        {
            "cell_type": "markdown",
            "source": [
                "5. Modify the query you just created as a subquery to an outer query that retrieves products with a list price higher than the maximum selling price. Return the product name and maximum list price.\n",
                "6. Run the query and review the results, which include all products that have a listPrice that is higher than the maximum price for which any product has been sold.\n",
                ""
            ],
            "metadata": {
                "azdata_cell_guid": "f5b7cc7c-df8a-4342-b69e-9c544093cdd5"
            },
            "attachments": {}
        },
        {
            "cell_type": "code",
            "source": [
                "SELECT Name, ListPrice\n",
                "FROM SalesLT.Product\n",
                "WHERE ListPrice >\n",
                "    (SELECT MAX(UnitPrice)\n",
                "    FROM SalesLT.SalesOrderDetail);"
            ],
            "metadata": {
                "azdata_cell_guid": "70d06db0-5ba8-4f5d-973b-467ee6ed17ac",
                "language": "sql"
            },
            "outputs": [],
            "execution_count": null
        },
        {
            "cell_type": "markdown",
            "source": [
                "7. Write a query to return the product ids from the order details table where the order quantity is greater or equal to than 20. Use the `>=` operator in your query.\n",
                "8. Run the query and note that it returns the ProductID for each product that has been ordered in quantities of 20 or more."
            ],
            "metadata": {
                "azdata_cell_guid": "86f5d550-5312-4520-9dda-12fb62e4aca9"
            },
            "attachments": {}
        },
        {
            "cell_type": "code",
            "source": [
                "SELECT DISTINCT ProductID\n",
                "FROM SalesLT.SalesOrderDetail\n",
                "WHERE OrderQty >= 20;"
            ],
            "metadata": {
                "azdata_cell_guid": "2cb88e35-0b6a-4059-a139-b49537b9a6a0",
                "language": "sql"
            },
            "outputs": [],
            "execution_count": null
        },
        {
            "cell_type": "markdown",
            "source": [
                "9. Copy and complete to use the previous query as a subquery that finds the names of the products that have been ordered in quantities of 20 or more.\n",
                "```sql\n",
                " SELECT Name FROM SalesLT.Product\n",
                " WHERE ProductID IN\n",
                "     (__);\n",
                "```\n",
                "10. Run the query and note that it returns the product names."
            ],
            "metadata": {
                "language": "sql",
                "azdata_cell_guid": "31b7769e-d670-446d-9508-3e4fc4d265e9"
            },
            "attachments": {}
        },
        {
            "cell_type": "code",
            "source": [
                "SELECT Name FROM SalesLT.Product\n",
                "WHERE ProductID IN\n",
                "    (SELECT DISTINCT ProductID\n",
                "    FROM SalesLT.SalesOrderDetail\n",
                "    WHERE OrderQty >= 20);"
            ],
            "metadata": {
                "language": "sql",
                "azdata_cell_guid": "1f01aafa-3b1a-49f7-9974-9f24d66f7f5a"
            },
            "outputs": [],
            "execution_count": null
        },
        {
            "cell_type": "markdown",
            "source": [
                "11. Copy the following query that uses a `JOIN` instead of subquery.\n",
                "```sql\n",
                "SELECT DISTINCT Name\n",
                "FROM SalesLT.Product AS p\n",
                "JOIN SalesLT.SalesOrderDetail AS o\n",
                "    ON p.ProductID = o.ProductID\n",
                "WHERE OrderQty >= 20;\n",
                "```\n",
                "12. Run the query and note that it returns the same results. Often you can achieve the same outcome with a subquery or a join, and often a subquery approach can be more easily interpreted by a developer looking at the code than a complex join query because the operation can be broken down into discrete components. In most cases, the performance of equivalent join or subquery operations is similar, but in some cases where existence checks need to be performed, joins perform better."
            ],
            "metadata": {
                "language": "sql",
                "azdata_cell_guid": "b88430bf-c707-45ed-acb3-1b00a9ef2090"
            },
            "attachments": {}
        },
        {
            "cell_type": "code",
            "source": [
                "SELECT DISTINCT Name\n",
                "FROM SalesLT.Product AS p\n",
                "JOIN SalesLT.SalesOrderDetail AS o\n",
                "    ON p.ProductID = o.ProductID\n",
                "WHERE OrderQty >= 20;"
            ],
            "metadata": {
                "language": "sql",
                "azdata_cell_guid": "4051845e-56d7-4469-aec2-0b0ef495d2bf"
            },
            "outputs": [],
            "execution_count": null
        },
        {
            "cell_type": "markdown",
            "source": [
                "* * *\n",
                "## Use correlated subqueries\n",
                "\n",
                "So far, the subqueries we’ve used have been independent of the outer query. In some cases, you might need to use an inner subquery that references a value in the outer query. Conceptually, the inner query runs once for each row returned by the outer query (which is why correlated subqueries are sometimes referred to as repeating subqueries).\n",
                "\n",
                "1. Write a query to return the sales order id, product id, and order quantity for each product in the **SalesLT.SalesOrderDetail** table.\n",
                "\n",
                "2. Run the query and note that the results contain the order ID, product ID, and quantity for each sale of a product."
            ],
            "metadata": {
                "language": "sql",
                "azdata_cell_guid": "268cbaa5-b42d-48d1-85aa-f70b1a284368"
            },
            "attachments": {}
        },
        {
            "cell_type": "code",
            "source": [
                "SELECT od.SalesOrderID, od.ProductID, od.OrderQty\n",
                "FROM SalesLT.SalesOrderDetail AS od\n",
                "WHERE od.\n",
                "ORDER BY od.ProductID;"
            ],
            "metadata": {
                "language": "sql",
                "azdata_cell_guid": "996717c9-124a-46a4-9f3c-d589cf5deadf"
            },
            "outputs": [],
            "execution_count": null
        },
        {
            "cell_type": "markdown",
            "source": [
                "3. Copy and complete the following query to filter it using a subquery in the WHERE clause that retrieves the maximum purchased quantity for each product retrieved by the outer query. Note that the inner query references a table alias that is declared in the outer query.\n",
                "```sql\n",
                " SELECT od.SalesOrderID, od.ProductID, od.OrderQty\n",
                " FROM SalesLT.SalesOrderDetail AS od\n",
                " WHERE od.OrderQty =\n",
                "     (SELECT __(OrderQty)\n",
                "      FROM SalesLT.SalesOrderDetail AS d\n",
                "      WHERE __.ProductID = d.ProductID)\n",
                " ORDER BY od.ProductID;\n",
                "``` \n",
                "4. Run the query and review the results, which should only contain product order records for which the quantity ordered is the maximum ordered for that product."
            ],
            "metadata": {
                "language": "sql",
                "azdata_cell_guid": "db26a650-0292-412d-814d-5dfd59e4db05"
            },
            "attachments": {}
        },
        {
            "cell_type": "code",
            "source": [
                "SELECT od.SalesOrderID, od.ProductID, od.OrderQty\n",
                "FROM SalesLT.SalesOrderDetail AS od\n",
                "WHERE od.OrderQty =\n",
                "    (SELECT MAX(OrderQty)\n",
                "    FROM SalesLT.SalesOrderDetail AS d\n",
                "    WHERE od.ProductID = d.ProductID)\n",
                "ORDER BY od.ProductID;"
            ],
            "metadata": {
                "language": "sql",
                "azdata_cell_guid": "1aff60d9-79a3-4a29-abc0-ea09849eed6c"
            },
            "outputs": [],
            "execution_count": null
        },
        {
            "cell_type": "markdown",
            "source": [
                "5. Write a query that returns the sales order id, order date, and customer id from the **SalesLT.SalesOrderHeader** table for all customers who have placed an order.\n",
                "    \n",
                "6. Run the query and note that it returns the order ID, order date, and customer ID for each order that has been placed."
            ],
            "metadata": {
                "language": "sql",
                "azdata_cell_guid": "04ab8e48-5ef9-47e0-b14a-24c0a6b482cc"
            },
            "attachments": {}
        },
        {
            "cell_type": "code",
            "source": [
                "SELECT o.SalesOrderID, o.OrderDate, o.CustomerID\n",
                "FROM SalesLT.SalesOrderHeader AS o\n",
                "ORDER BY o.SalesOrderID;"
            ],
            "metadata": {
                "language": "sql",
                "azdata_cell_guid": "045b4e0b-3149-4ca4-8bfe-331c201d1119",
                "tags": []
            },
            "outputs": [
{
    "output_type": "display_data",
    "data": {
        "text/html": "(32 rows affected)"
    },
    "metadata": {}
}, {
    "output_type": "display_data",
    "data": {
        "text/html": "Total execution time: 00:00:00.042"
    },
    "metadata": {}
}, {
    "output_type": "execute_result",
    "metadata": {},
    "execution_count": 1,
    "data": {
        "application/vnd.dataresource+json": {
            "schema": {
                "fields": [
                    {
                        "name": "SalesOrderID"
                    },
                    {
                        "name": "OrderDate"
                    },
                    {
                        "name": "CustomerID"
                    }
                ]
            },
            "data": [
                {
                    "SalesOrderID": "71774",
                    "OrderDate": "2008-06-01 00:00:00.000",
                    "CustomerID": "29847"
                },
                {
                    "SalesOrderID": "71776",
                    "OrderDate": "2008-06-01 00:00:00.000",
                    "CustomerID": "30072"
                },
                {
                    "SalesOrderID": "71780",
                    "OrderDate": "2008-06-01 00:00:00.000",
                    "CustomerID": "30113"
                },
                {
                    "SalesOrderID": "71782",
                    "OrderDate": "2008-06-01 00:00:00.000",
                    "CustomerID": "29485"
                },
                {
                    "SalesOrderID": "71783",
                    "OrderDate": "2008-06-01 00:00:00.000",
                    "CustomerID": "29957"
                },
                {
                    "SalesOrderID": "71784",
                    "OrderDate": "2008-06-01 00:00:00.000",
                    "CustomerID": "29736"
                },
                {
                    "SalesOrderID": "71796",
                    "OrderDate": "2008-06-01 00:00:00.000",
                    "CustomerID": "29660"
                },
                {
                    "SalesOrderID": "71797",
                    "OrderDate": "2008-06-01 00:00:00.000",
                    "CustomerID": "29796"
                },
                {
                    "SalesOrderID": "71815",
                    "OrderDate": "2008-06-01 00:00:00.000",
                    "CustomerID": "30089"
                },
                {
                    "SalesOrderID": "71816",
                    "OrderDate": "2008-06-01 00:00:00.000",
                    "CustomerID": "30027"
                },
                {
                    "SalesOrderID": "71831",
                    "OrderDate": "2008-06-01 00:00:00.000",
                    "CustomerID": "30019"
                },
                {
                    "SalesOrderID": "71832",
                    "OrderDate": "2008-06-01 00:00:00.000",
                    "CustomerID": "29922"
                },
                {
                    "SalesOrderID": "71845",
                    "OrderDate": "2008-06-01 00:00:00.000",
                    "CustomerID": "29938"
                },
                {
                    "SalesOrderID": "71846",
                    "OrderDate": "2008-06-01 00:00:00.000",
                    "CustomerID": "30102"
                },
                {
                    "SalesOrderID": "71856",
                    "OrderDate": "2008-06-01 00:00:00.000",
                    "CustomerID": "30033"
                },
                {
                    "SalesOrderID": "71858",
                    "OrderDate": "2008-06-01 00:00:00.000",
                    "CustomerID": "29653"
                },
                {
                    "SalesOrderID": "71863",
                    "OrderDate": "2008-06-01 00:00:00.000",
                    "CustomerID": "29975"
                },
                {
                    "SalesOrderID": "71867",
                    "OrderDate": "2008-06-01 00:00:00.000",
                    "CustomerID": "29644"
                },
                {
                    "SalesOrderID": "71885",
                    "OrderDate": "2008-06-01 00:00:00.000",
                    "CustomerID": "29612"
                },
                {
                    "SalesOrderID": "71895",
                    "OrderDate": "2008-06-01 00:00:00.000",
                    "CustomerID": "29584"
                },
                {
                    "SalesOrderID": "71897",
                    "OrderDate": "2008-06-01 00:00:00.000",
                    "CustomerID": "29877"
                },
                {
                    "SalesOrderID": "71898",
                    "OrderDate": "2008-06-01 00:00:00.000",
                    "CustomerID": "29932"
                },
                {
                    "SalesOrderID": "71899",
                    "OrderDate": "2008-06-01 00:00:00.000",
                    "CustomerID": "29568"
                },
                {
                    "SalesOrderID": "71902",
                    "OrderDate": "2008-06-01 00:00:00.000",
                    "CustomerID": "29929"
                },
                {
                    "SalesOrderID": "71915",
                    "OrderDate": "2008-06-01 00:00:00.000",
                    "CustomerID": "29638"
                },
                {
                    "SalesOrderID": "71917",
                    "OrderDate": "2008-06-01 00:00:00.000",
                    "CustomerID": "30025"
                },
                {
                    "SalesOrderID": "71920",
                    "OrderDate": "2008-06-01 00:00:00.000",
                    "CustomerID": "29982"
                },
                {
                    "SalesOrderID": "71923",
                    "OrderDate": "2008-06-01 00:00:00.000",
                    "CustomerID": "29781"
                },
                {
                    "SalesOrderID": "71935",
                    "OrderDate": "2008-06-01 00:00:00.000",
                    "CustomerID": "29531"
                },
                {
                    "SalesOrderID": "71936",
                    "OrderDate": "2008-06-01 00:00:00.000",
                    "CustomerID": "30050"
                },
                {
                    "SalesOrderID": "71938",
                    "OrderDate": "2008-06-01 00:00:00.000",
                    "CustomerID": "29546"
                },
                {
                    "SalesOrderID": "71946",
                    "OrderDate": "2008-06-01 00:00:00.000",
                    "CustomerID": "29741"
                }
            ]
        },
        "text/html": [
            "<table>",
            "<tr><th>SalesOrderID</th><th>OrderDate</th><th>CustomerID</th></tr>",
            "<tr><td>71774</td><td>2008-06-01 00:00:00.000</td><td>29847</td></tr>",
            "<tr><td>71776</td><td>2008-06-01 00:00:00.000</td><td>30072</td></tr>",
            "<tr><td>71780</td><td>2008-06-01 00:00:00.000</td><td>30113</td></tr>",
            "<tr><td>71782</td><td>2008-06-01 00:00:00.000</td><td>29485</td></tr>",
            "<tr><td>71783</td><td>2008-06-01 00:00:00.000</td><td>29957</td></tr>",
            "<tr><td>71784</td><td>2008-06-01 00:00:00.000</td><td>29736</td></tr>",
            "<tr><td>71796</td><td>2008-06-01 00:00:00.000</td><td>29660</td></tr>",
            "<tr><td>71797</td><td>2008-06-01 00:00:00.000</td><td>29796</td></tr>",
            "<tr><td>71815</td><td>2008-06-01 00:00:00.000</td><td>30089</td></tr>",
            "<tr><td>71816</td><td>2008-06-01 00:00:00.000</td><td>30027</td></tr>",
            "<tr><td>71831</td><td>2008-06-01 00:00:00.000</td><td>30019</td></tr>",
            "<tr><td>71832</td><td>2008-06-01 00:00:00.000</td><td>29922</td></tr>",
            "<tr><td>71845</td><td>2008-06-01 00:00:00.000</td><td>29938</td></tr>",
            "<tr><td>71846</td><td>2008-06-01 00:00:00.000</td><td>30102</td></tr>",
            "<tr><td>71856</td><td>2008-06-01 00:00:00.000</td><td>30033</td></tr>",
            "<tr><td>71858</td><td>2008-06-01 00:00:00.000</td><td>29653</td></tr>",
            "<tr><td>71863</td><td>2008-06-01 00:00:00.000</td><td>29975</td></tr>",
            "<tr><td>71867</td><td>2008-06-01 00:00:00.000</td><td>29644</td></tr>",
            "<tr><td>71885</td><td>2008-06-01 00:00:00.000</td><td>29612</td></tr>",
            "<tr><td>71895</td><td>2008-06-01 00:00:00.000</td><td>29584</td></tr>",
            "<tr><td>71897</td><td>2008-06-01 00:00:00.000</td><td>29877</td></tr>",
            "<tr><td>71898</td><td>2008-06-01 00:00:00.000</td><td>29932</td></tr>",
            "<tr><td>71899</td><td>2008-06-01 00:00:00.000</td><td>29568</td></tr>",
            "<tr><td>71902</td><td>2008-06-01 00:00:00.000</td><td>29929</td></tr>",
            "<tr><td>71915</td><td>2008-06-01 00:00:00.000</td><td>29638</td></tr>",
            "<tr><td>71917</td><td>2008-06-01 00:00:00.000</td><td>30025</td></tr>",
            "<tr><td>71920</td><td>2008-06-01 00:00:00.000</td><td>29982</td></tr>",
            "<tr><td>71923</td><td>2008-06-01 00:00:00.000</td><td>29781</td></tr>",
            "<tr><td>71935</td><td>2008-06-01 00:00:00.000</td><td>29531</td></tr>",
            "<tr><td>71936</td><td>2008-06-01 00:00:00.000</td><td>30050</td></tr>",
            "<tr><td>71938</td><td>2008-06-01 00:00:00.000</td><td>29546</td></tr>",
            "<tr><td>71946</td><td>2008-06-01 00:00:00.000</td><td>29741</td></tr>",
            "</table>"
        ]
    }
}
],
            "execution_count": 1
        },
        {
            "cell_type": "markdown",
            "source": [
                "7. Copy and complete the following queryto retrieve the company name for each customer using a correlated subquery in the SELECT clause.\n",
                "\n",
                "```\n",
                " SELECT o.SalesOrderID, o.OrderDate,\n",
                "       (SELECT CompanyName\n",
                "       FROM SalesLT.__ AS c\n",
                "       WHERE c.CustomerID = __.CustomerID) AS CompanyName\n",
                " FROM SalesLT.SalesOrderHeader AS o\n",
                " ORDER BY o.SalesOrderID;\n",
                "```\n",
                "\n",
                "8. Run the query, and verify that the company name is returned for each customer found by the outer query.\n",
                ""
            ],
            "metadata": {
                "language": "sql",
                "azdata_cell_guid": "7a7a5e1c-bab7-44b0-b25b-0a5152aaaa6d"
            },
            "attachments": {}
        },
        {
            "cell_type": "code",
            "source": [
                "SELECT o.SalesOrderID, o.OrderDate,\n",
                "    (SELECT CompanyName\n",
                "    FROM SalesLT.Customer AS c\n",
                "    WHERE c.CustomerID = o.CustomerID) AS CompanyName\n",
                "FROM SalesLT.SalesOrderHeader AS o\n",
                "ORDER BY o.SalesOrderID;"
            ],
            "metadata": {
                "language": "sql",
                "azdata_cell_guid": "f43cbacb-2d31-478b-a9d7-ea890a89c72f"
            },
            "outputs": [],
            "execution_count": null
        },
        {
            "cell_type": "markdown",
            "source": [
                "## End of Lab04"
            ],
            "metadata": {
                "language": "sql",
                "azdata_cell_guid": "8a0c9868-6a31-4a32-9f04-502baedd1adc"
            },
            "attachments": {}
        }
    ]
}