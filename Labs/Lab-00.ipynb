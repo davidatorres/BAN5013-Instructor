{
    "metadata": {
        "kernelspec": {
            "name": "SQL",
            "display_name": "SQL",
            "language": "sql"
        },
        "language_info": {
            "name": "sql",
            "version": ""
        }
    },
    "nbformat_minor": 2,
    "nbformat": 4,
    "cells": [
        {
            "cell_type": "markdown",
            "source": [
                "# Lab 00 - Class Setup\n",
                "\n",
                "A. Login to Azure Virtual Desktop - [https://tiny.cc/ban5013](https://tiny.cc/ban5013)\n",
                "\n",
                "B. Launch Azure Data Studio\n",
                "\n",
                "C. Clone GitHub\n",
                "\n",
                "1. Click \"Source Control\" section\n",
                "2. Click \"Clone Repository\" button\n",
                "3. Enter \"[https://github.com/davidatorres/ban5013\"](https:\\github.com\\davidatorres\\ban5013)\n",
                "\n",
                "D. Create database connection\n",
                "\n",
                "1. Click \"Connections\" section\n",
                "2. Click \"New Connection\" icon\n",
                "3. Enter database server name \"ban5013sql.database.windows.net\"\n",
                "4. Select SQL Login\n",
                "4. Enter username \"ban5013student\"\n",
                "5. Enter password \"5013!student\"\n",
                "6. Select database \"AdventureWorksLT\"\n",
                "7. Enter name \"AWLT\"\n",
                "\n",
                "[Setup Video](https://ban5013st.blob.core.windows.net/videos/setup.mp4)\n",
                "\n",
                "\n",
                "* * *\n",
                "\n",
                "December 2, 2023"
            ],
            "metadata": {
                "azdata_cell_guid": "2288babb-92f8-4182-8ab7-d7ae56c957e7"
            },
            "attachments": {}
        }
    ]
}