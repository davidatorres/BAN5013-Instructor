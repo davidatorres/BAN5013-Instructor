{
    "metadata": {
        "kernelspec": {
            "name": "SQL",
            "display_name": "SQL",
            "language": "sql"
        },
        "language_info": {
            "name": "sql",
            "version": ""
        }
    },
    "nbformat_minor": 2,
    "nbformat": 4,
    "cells": [
        {
            "cell_type": "markdown",
            "source": [
                "# Lab 00 - Setup Azure Data Studio\n",
                "\n",
                "A. Download Azure Data Studio - [https://aka.ms/azds](https:\\aka.ms\\azds)\n",
                "\n",
                "* * *\n",
                "\n",
                "B. Clone GitHub\n",
                "\n",
                "1. Click \"Source Control\" section\n",
                "2. Click \"Clone Repository\" button\n",
                "3. Enter \"[https://github.com/davidatorres/ban5013\"](https:\\github.com\\davidatorres\\ban5013&quot;) repo URL ![Git Repo](https://ban5013st.blob.core.windows.net/images/Lab01-01a.png)\n",
                "\n",
                "* * *\n",
                "\n",
                "C. Create database connections\n",
                "\n",
                "1. Click \"Connections\" section\n",
                "2. Click \"New Connection\" icon\n",
                "3. Enter database server name \"ban5013sql.database.windows.net\"\n",
                "4. Enter username \"ban5013student\"\n",
                "5. Enter admin password \"ban@5013!\"\n",
                "6. Select database \"AdventureWorksLT\"\n",
                "7. Enter name \"AWLT\"\n",
                "\n",
                "Repeat for the \"master\" and \"AdventureWorks\" databases\n",
                "\n",
                "![Connect to database](https://ban5013st.blob.core.windows.net/images/Lab01-02a.png)"
            ],
            "metadata": {
                "azdata_cell_guid": "2288babb-92f8-4182-8ab7-d7ae56c957e7"
            },
            "attachments": {}
        }
    ]
}