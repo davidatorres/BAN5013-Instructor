{
    "metadata": {
        "kernelspec": {
            "name": "SQL",
            "display_name": "SQL",
            "language": "sql"
        },
        "language_info": {
            "name": "sql",
            "version": ""
        }
    },
    "nbformat_minor": 2,
    "nbformat": 4,
    "cells": [
        {
            "cell_type": "markdown",
            "source": [
                "# Lab 03 - Challenges\n",
                "## Challenge 1: Generate invoice reports\n",
                "Adventure Works Cycles sells directly to retailers, who must be invoiced for their orders. You have been tasked with writing a query to generate a list of invoices to be sent to customers.\n",
                "1. Retrieve customer orders\n",
                "    - As an initial step towards generating the invoice report, write a query that returns the company name from the **SalesLT.Customer** table, and the sales order ID and total due from the **SalesLT.SalesOrderHeader** table."
            ],
            "metadata": {
                "azdata_cell_guid": "8463c391-739d-4f0d-9715-86df627ebdab"
            },
            "attachments": {}
        },
        {
            "cell_type": "code",
            "source": [
                "--- Your code here"
            ],
            "metadata": {
                "azdata_cell_guid": "5d2af926-f350-4c45-ad5e-acbeb376dac2",
                "language": "sql"
            },
            "outputs": [],
            "execution_count": null
        },
        {
            "cell_type": "markdown",
            "source": [
                "2. Retrieve customer orders with addresses.\n",
                "   - Extend your customer orders query to include the Main Office address for each customer, including the full street address, city, state or province, postal code, and country or region\n",
                "   - **Tip**: Note that each customer can have multiple addressees in the **SalesLT.Address** table, so the database developer has created the **SalesLT.CustomerAddress** table to enable a many-to-many relationship between customers and addresses. Your query will need to include both of these tables, and should filter the results so that only Main Office addresses are included."
            ],
            "metadata": {
                "azdata_cell_guid": "20ed5b69-d0a2-4be1-aec0-5c6d85578fbe"
            },
            "attachments": {}
        },
        {
            "cell_type": "code",
            "source": [
                "--- Your code here"
            ],
            "metadata": {
                "language": "sql",
                "azdata_cell_guid": "8e11cd4b-3d87-4011-ae44-68d27a3d8418"
            },
            "outputs": [],
            "execution_count": null
        },
        {
            "cell_type": "markdown",
            "source": [
                "* * *\n",
                "\n",
                "## Challenge 2: Retrieve customer data\n",
                "\n",
                "As you continue to work with the Adventure Works customer and sales data, you must create queries for reports that have been requested by the sales team.\n",
                "\n",
                "1. Retrieve a list of all customers and their orders\n",
                "    - The sales manager wants a list of all customer companies and their contacts (first name and last name), showing the sales order ID and total due for each order they have placed. Customers who have not placed any orders should be included at the bottom of the list with NULL values for the order ID and total due."
            ],
            "metadata": {
                "language": "sql",
                "azdata_cell_guid": "e6519b60-982a-41d6-ae97-1d9d5483aa11"
            },
            "attachments": {}
        },
        {
            "cell_type": "code",
            "source": [
                "--- Your code here"
            ],
            "metadata": {
                "language": "sql",
                "azdata_cell_guid": "0f43fd78-83ef-4916-ab29-ea20a2903421"
            },
            "outputs": [],
            "execution_count": null
        },
        {
            "cell_type": "markdown",
            "source": [
                "2. Retrieve a list of customers with no address.\n",
                "   - A sales employee has noticed that Adventure Works does not have address information for all customers. You must write a query that returns a list of customer IDs, company names, contact names (first name and last name), and phone numbers for customers with no address stored in the database."
            ],
            "metadata": {
                "language": "sql",
                "azdata_cell_guid": "71340017-6b07-477e-ad9a-90d57b8d92d4"
            },
            "attachments": {}
        },
        {
            "cell_type": "code",
            "source": [
                "--- Your code here"
            ],
            "metadata": {
                "language": "sql",
                "azdata_cell_guid": "dcb57b39-a5d8-4c02-b4eb-dc3ce80d2a13",
                "tags": []
            },
            "outputs": [],
            "execution_count": null
        },
        {
            "cell_type": "markdown",
            "source": [
                "* * *\n",
                "## Challenge 3: Create a product catalog\n",
                "The marketing team has asked you to retrieve data for a new product catalog.\n",
                "\n",
                "1. Retrieve product information by category\n",
                "   - The product catalog will list products by parent category and subcategory, so you must write a query that retrieves the parent category name, subcategory name, and product name fields for the catalog."
            ],
            "metadata": {
                "language": "sql",
                "azdata_cell_guid": "7e9bd2a6-8b11-48d2-96c7-2a40d2dd153a"
            },
            "attachments": {}
        },
        {
            "cell_type": "code",
            "source": [
                "--- Your code here"
            ],
            "metadata": {
                "language": "sql",
                "azdata_cell_guid": "ae42be8d-ef49-458b-ac85-e75a702c9fc7"
            },
            "outputs": [],
            "execution_count": null
        },
        {
            "cell_type": "markdown",
            "source": [
                "### Validation Question\n",
                "Copy and complete the following query and replace StudentID with your student id number (e.g. '1234567').  This query will be used to validate your results.  You can run this query on the database to see the expected results.\n",
                "```sql\n",
                "SELECT LastName FROM SalesLT.Customer WHERE PasswordSalt = 'StudentID';\n",
                "```"SalesPerson
            ],
            "metadata": {
                "language": "sql",
                "azdata_cell_guid": "686aef23-2773-4b39-9569-ce82faa39791"
            }
        },
        {
            "cell_type": "code",
            "source": [
                "--- Your code here"
            ],
            "metadata": {
                "language": "sql",
                "azdata_cell_guid": "0d8d7b1a-402d-472d-84b5-0ce06847d91a"
            },
            "outputs": [],
            "execution_count": null
        },
        {
            "cell_type": "markdown",
            "source": [
                "## End of Challenge 03"
            ],
            "metadata": {
                "language": "sql",
                "azdata_cell_guid": "89585e5b-edce-40cc-91c8-18abf6e2f554"
            },
            "attachments": {}
        }
    ]
}