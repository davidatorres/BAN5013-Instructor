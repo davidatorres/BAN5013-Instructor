{
    "metadata": {
        "kernelspec": {
            "name": "SQL",
            "display_name": "SQL",
            "language": "sql"
        },
        "language_info": {
            "name": "sql",
            "version": ""
        }
    },
    "nbformat_minor": 2,
    "nbformat": 4,
    "cells": [
        {
            "cell_type": "markdown",
            "source": [
                "# Lab 01 - Challenge Answers\n",
                "## Get Started with Transact SQL\n",
                "### Challenge 1: Retrieve customer data\n",
                "Adventure Works Cycles sells directly to retailers, who then sell products to consumers. Each retailer that is an Adventure Works customer has provided a named contact for all communication from Adventure Works. The sales manager at Adventure Works has asked you to generate some reports containing details of the company’s customers to support a direct sales campaign.\n",
                "\n",
                "1. Retrieve customer details\n",
                "   - Familiarize yourself with the SalesLT.Customer table by writing a Transact-SQL query that retrieves all columns for all customers."
            ],
            "metadata": {
                "azdata_cell_guid": "8463c391-739d-4f0d-9715-86df627ebdab"
            },
            "attachments": {}
        },
        {
            "cell_type": "code",
            "source": [
                "SELECT * FROM SalesLT.Customer;"
            ],
            "metadata": {
                "azdata_cell_guid": "5d2af926-f350-4c45-ad5e-acbeb376dac2",
                "language": "sql"
            },
            "outputs": [],
            "execution_count": null
        },
        {
            "cell_type": "markdown",
            "source": [
                "2. Retrieve customer name data\n",
                "   - Create a list of all customer contact names that includes the title, first name, middle name (if any), last name, and suffix (if any) of all customers."
            ],
            "metadata": {
                "azdata_cell_guid": "20ed5b69-d0a2-4be1-aec0-5c6d85578fbe"
            },
            "attachments": {}
        },
        {
            "cell_type": "code",
            "source": [
                "SELECT Title, FirstName, MiddleName, LastName, Suffix\n",
                "FROM SalesLT.Customer;"
            ],
            "metadata": {
                "language": "sql",
                "azdata_cell_guid": "8e11cd4b-3d87-4011-ae44-68d27a3d8418"
            },
            "outputs": [],
            "execution_count": null
        },
        {
            "cell_type": "markdown",
            "source": [
                "\n",
                "3. Retrieve customer names and phone numbers\n",
                "   - Each customer has an assigned salesperson. You must write a query to create a call sheet that lists:\n",
                "      - The salesperson\n",
                "      - A column named CustomerName that displays how the customer contact should be greeted (for example, Mr Smith)\n",
                "      - The customer’s phone number."
            ],
            "metadata": {
                "language": "sql",
                "azdata_cell_guid": "e6519b60-982a-41d6-ae97-1d9d5483aa11"
            },
            "attachments": {}
        },
        {
            "cell_type": "code",
            "source": [
                "SELECT Salesperson, ISNULL(Title,'') + ' ' + LastName AS CustomerName, Phone\n",
                "FROM SalesLT.Customer;"
            ],
            "metadata": {
                "language": "sql",
                "azdata_cell_guid": "0f43fd78-83ef-4916-ab29-ea20a2903421"
            },
            "outputs": [],
            "execution_count": null
        },
        {
            "cell_type": "markdown",
            "source": [
                "* * *\n",
                "### Challenge 2\n",
                "As you continue to work with the Adventure Works customer data, you must create queries for reports that have been requested by the sales team.\n",
                "\n",
                "1. Retrieve a list of customer companies\n",
                "   - You have been asked to provide a list of all customer companies in the format Customer ID : Company Name - for example, 78: Preferred Bikes."
            ],
            "metadata": {
                "language": "sql",
                "azdata_cell_guid": "71340017-6b07-477e-ad9a-90d57b8d92d4"
            },
            "attachments": {}
        },
        {
            "cell_type": "code",
            "source": [
                " SELECT CAST(CustomerID AS varchar) + ': ' + CompanyName AS CustomerCompany\n",
                " FROM SalesLT.Customer;"
            ],
            "metadata": {
                "language": "sql",
                "azdata_cell_guid": "dcb57b39-a5d8-4c02-b4eb-dc3ce80d2a13",
                "tags": []
            },
            "outputs": [],
            "execution_count": null
        },
        {
            "cell_type": "markdown",
            "source": [
                "2. Retrieve a list of sales order revisions\n",
                "   - The SalesLT.SalesOrderHeader table contains records of sales orders. You have been asked to retrieve data for a report that shows:\n",
                "     - The sales order number and revision number in the format () – for example SO71774 (2).\n",
                "     - The order date converted to ANSI standard 102 format (yyyy.mm.dd – for example 2015.01.31)."
            ],
            "metadata": {
                "language": "sql",
                "azdata_cell_guid": "7e9bd2a6-8b11-48d2-96c7-2a40d2dd153a"
            },
            "attachments": {}
        },
        {
            "cell_type": "code",
            "source": [
                "SELECT SalesOrderNumber + ' (' + STR(RevisionNumber, 1) + ')' AS OrderRevision,\n",
                "    CONVERT(nvarchar(30), OrderDate, 102) AS OrderDate\n",
                "FROM SalesLT.SalesOrderHeader;"
            ],
            "metadata": {
                "language": "sql",
                "azdata_cell_guid": "ae42be8d-ef49-458b-ac85-e75a702c9fc7"
            },
            "outputs": [],
            "execution_count": null
        },
        {
            "cell_type": "markdown",
            "source": [
                "* * *\n",
                "\n",
                "### Challenge 3\n",
                "Some records in the database include missing or unknown values that are returned as NULL. You must create some queries that handle these NULL values appropriately.\n",
                "\n",
                "1. Retrieve customer contact names with middle names if known\n",
                "   - You have been asked to write a query that returns a list of customer names. The list must consist of a single column in the format first last (for example Keith Harris) if the middle name is unknown, or first middle last (for example Jane M. Gates) if a middle name is known."
            ],
            "metadata": {
                "language": "sql",
                "azdata_cell_guid": "6db003ba-54e4-43a2-a46c-e8427921a7a5"
            },
            "attachments": {}
        },
        {
            "cell_type": "code",
            "source": [
                "SELECT FirstName + ' ' + ISNULL(MiddleName + ' ', '') + LastName AS CustomerName\n",
                "FROM SalesLT.Customer;"
            ],
            "metadata": {
                "language": "sql",
                "azdata_cell_guid": "6902c719-e339-4e01-ac19-cb72581ff180"
            },
            "outputs": [],
            "execution_count": null
        },
        {
            "cell_type": "markdown",
            "source": [
                "2. Retrieve primary contact details\n",
                "   - Customers may provide Adventure Works with an email address, a phone number, or both. If an email address is available, then it should be used as the primary contact method; if not, then the phone number should be used. You must write a query that returns a list of customer IDs in one column, and a second column named PrimaryContact that contains the email address if known, and otherwise the phone number.\n",
                "\n",
                "**IMPORTANT:** In the sample data provided, there are no customer records without an email address. Therefore, to verify that your query works as expected, run the following UPDATE statement to remove some existing email addresses before creating your query:\n",
                "\n",
                "```\n",
                "  UPDATE SalesLT.Customer\n",
                "  SET EmailAddress = NULL\n",
                "  WHERE CustomerID % 7 = 1;\n",
                "```"
            ],
            "metadata": {
                "language": "sql",
                "azdata_cell_guid": "a3ddf2a7-f555-4aed-b84e-978c4bb07384"
            },
            "attachments": {}
        },
        {
            "cell_type": "code",
            "source": [
                "--- Update query to set EmailAddress to NULL for every 7th customer\n",
                "UPDATE SalesLT.Customer\n",
                "SET EmailAddress = NULL\n",
                "WHERE CustomerID % 7 = 1;"
            ],
            "metadata": {
                "language": "sql",
                "azdata_cell_guid": "c8898b03-544b-466d-a5eb-16c189cd8324"
            },
            "outputs": [],
            "execution_count": null
        },
        {
            "cell_type": "code",
            "source": [
                "--- SELECT COALESCE(EmailAddress, Phone) AS PrimaryContact\n",
                "SELECT CustomerID, COALESCE(EmailAddress, Phone) AS PrimaryContact\n",
                "FROM SalesLT.Customer;"
            ],
            "metadata": {
                "language": "sql",
                "azdata_cell_guid": "ee6b40ae-3216-47f8-9dee-bd6b0afc02e4",
                "tags": []
            },
            "outputs": [],
            "execution_count": null
        },
        {
            "cell_type": "markdown",
            "source": [
                "3. Retrieve shipping status:\n",
                "   - You have been asked to create a query that returns a list of sales order IDs and order dates with a column named ShippingStatus that contains the text Shipped for orders with a known ship date, and Awaiting Shipment for orders with no ship date.\n",
                "\n",
                "**IMPORTANT:** In the sample data provided, there are no sales order header records without a ship date. Therefore, to verify that your query works as expected, run the following UPDATE statement to remove some existing ship dates before creating your query.\n",
                "\n",
                "```\n",
                "  UPDATE SalesLT.SalesOrderHeader\n",
                "  SET ShipDate = NULL\n",
                "  WHERE SalesOrderID > 71899;\n",
                "```"
            ],
            "metadata": {
                "language": "sql",
                "azdata_cell_guid": "43a79a4b-3441-4ab1-a4d1-01ca95787407"
            },
            "attachments": {}
        },
        {
            "cell_type": "code",
            "source": [
                "--- Update the ShipDate column to NULL for all rows where the SalesOrderID is greater than 71899.\n",
                "UPDATE SalesLT.SalesOrderHeader\n",
                "SET ShipDate = NULL\n",
                "WHERE SalesOrderID > 71899;"
            ],
            "metadata": {
                "language": "sql",
                "azdata_cell_guid": "230ac76f-639f-4dfc-a627-ddafb1b26a6e"
            },
            "outputs": [],
            "execution_count": null
        },
        {
            "cell_type": "code",
            "source": [
                "--- Select shipping status for each order\n",
                "SELECT SalesOrderID, OrderDate,\n",
                "     CASE\n",
                "         WHEN ShipDate IS NULL THEN 'Awaiting Shipment'\n",
                "         ELSE 'Shipped'\n",
                "     END AS ShippingStatus\n",
                "FROM SalesLT.SalesOrderHeader;"
            ],
            "metadata": {
                "language": "sql",
                "azdata_cell_guid": "14ae1a85-403c-44f6-ad75-71cc707b80d8"
            },
            "outputs": [],
            "execution_count": null
        }
    ]
}