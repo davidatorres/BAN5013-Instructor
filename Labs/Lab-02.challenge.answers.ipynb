{
    "metadata": {
        "kernelspec": {
            "name": "SQL",
            "display_name": "SQL",
            "language": "sql"
        },
        "language_info": {
            "name": "sql",
            "version": ""
        }
    },
    "nbformat_minor": 2,
    "nbformat": 4,
    "cells": [
        {
            "cell_type": "markdown",
            "source": [
                "# Lab 02 - Challenge Answers\n",
                "## Challenge 1: Retrieve data for transportation reports\n",
                "\n",
                "The logistics manager at Adventure Works has asked you to generate some reports containing details of the company’s customers to help to reduce transportation costs.\n",
                "\n",
                "1. Retrieve a list of cities\n",
                "   - Initially, you need to produce a list of all of you customers’ locations. Write a Transact-SQL query that queries the SalesLT.Address table and retrieves the values for City and StateProvince, removing duplicates and sorted in ascending order of city.\n",
                ""
            ],
            "metadata": {
                "azdata_cell_guid": "8463c391-739d-4f0d-9715-86df627ebdab"
            },
            "attachments": {}
        },
        {
            "cell_type": "code",
            "source": [
                "SELECT DISTINCT City, StateProvince\n",
                "FROM SalesLT.Address\n",
                "ORDER BY City"
            ],
            "metadata": {
                "azdata_cell_guid": "5d2af926-f350-4c45-ad5e-acbeb376dac2",
                "language": "sql"
            },
            "outputs": [],
            "execution_count": null
        },
        {
            "cell_type": "markdown",
            "source": [
                "2. Retrieve the heaviest products\n",
                "   - Transportation costs are increasing and you need to identify the heaviest products. Retrieve the names of the top ten percent of products by weight.for all customers."
            ],
            "metadata": {
                "azdata_cell_guid": "20ed5b69-d0a2-4be1-aec0-5c6d85578fbe"
            },
            "attachments": {}
        },
        {
            "cell_type": "code",
            "source": [
                "SELECT TOP (10) PERCENT WITH TIES Name\n",
                "FROM SalesLT.Product\n",
                "ORDER BY Weight DESC;"
            ],
            "metadata": {
                "language": "sql",
                "azdata_cell_guid": "8e11cd4b-3d87-4011-ae44-68d27a3d8418"
            },
            "outputs": [],
            "execution_count": null
        },
        {
            "cell_type": "markdown",
            "source": [
                "* * *\n",
                "## Challenge 2: Retrieve product data\n",
                "\n",
                "The Production Manager at Adventure Works would like you to create some reports listing details of the products that you sell.\n",
                "\n",
                "1. Retrieve product details for product model 1\n",
                "   - Initially, you need to find the names, colors, and sizes of the products with a product model ID 1.\n",
                ""
            ],
            "metadata": {
                "language": "sql",
                "azdata_cell_guid": "e6519b60-982a-41d6-ae97-1d9d5483aa11"
            },
            "attachments": {}
        },
        {
            "cell_type": "code",
            "source": [
                "SELECT Name, Color, Size\n",
                "FROM SalesLT.Product\n",
                "WHERE ProductModelID = 1;"
            ],
            "metadata": {
                "language": "sql",
                "azdata_cell_guid": "0f43fd78-83ef-4916-ab29-ea20a2903421"
            },
            "outputs": [],
            "execution_count": null
        },
        {
            "cell_type": "markdown",
            "source": [
                "2. Filter products by color and size\n",
                "   - Retrieve the product number and name of the products that have a color of black, red, or white and a size of S or M."
            ],
            "metadata": {
                "language": "sql",
                "azdata_cell_guid": "71340017-6b07-477e-ad9a-90d57b8d92d4"
            },
            "attachments": {}
        },
        {
            "cell_type": "code",
            "source": [
                "SELECT ProductNumber, Name\n",
                "FROM SalesLT.Product\n",
                "WHERE Color IN ('Black','Red','White') AND Size IN ('S','M');"
            ],
            "metadata": {
                "language": "sql",
                "azdata_cell_guid": "dcb57b39-a5d8-4c02-b4eb-dc3ce80d2a13",
                "tags": []
            },
            "outputs": [],
            "execution_count": null
        },
        {
            "cell_type": "markdown",
            "source": [
                "3. Filter products by product number\n",
                "    - Retrieve the product number, name, and list price of products whose product number begins _BK-_"
            ],
            "metadata": {
                "language": "sql",
                "azdata_cell_guid": "7e9bd2a6-8b11-48d2-96c7-2a40d2dd153a"
            },
            "attachments": {}
        },
        {
            "cell_type": "code",
            "source": [
                "SELECT ProductNumber, Name, ListPrice\n",
                "FROM SalesLT.Product\n",
                "WHERE ProductNumber LIKE 'BK-%';"
            ],
            "metadata": {
                "language": "sql",
                "azdata_cell_guid": "ae42be8d-ef49-458b-ac85-e75a702c9fc7"
            },
            "outputs": [],
            "execution_count": null
        },
        {
            "cell_type": "markdown",
            "source": [
                "4. Retrieve specific products by product number\n",
                "   - Modify your previous query to retrieve the product number, name, and list price of products whose product number begins BK- followed by any character other than R, and ends with a - followed by any two numerals.\n",
                ""
            ],
            "metadata": {
                "language": "sql",
                "azdata_cell_guid": "6db003ba-54e4-43a2-a46c-e8427921a7a5"
            },
            "attachments": {}
        },
        {
            "cell_type": "code",
            "source": [
                "SELECT ProductNumber, Name, ListPrice\n",
                "FROM SalesLT.Product\n",
                "WHERE ProductNumber LIKE 'BK-[^R]%-[0-9][0-9]';"
            ],
            "metadata": {
                "language": "sql",
                "azdata_cell_guid": "6902c719-e339-4e01-ac19-cb72581ff180"
            },
            "outputs": [],
            "execution_count": null
        },
        {
            "cell_type": "markdown",
            "source": [
                "## End of Challenge 2"
            ],
            "metadata": {
                "language": "sql",
                "azdata_cell_guid": "89585e5b-edce-40cc-91c8-18abf6e2f554"
            },
            "attachments": {}
        }
    ]
}