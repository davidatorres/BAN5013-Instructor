{
    "metadata": {
        "kernelspec": {
            "name": "SQL",
            "display_name": "SQL",
            "language": "sql"
        },
        "language_info": {
            "name": "sql",
            "version": ""
        }
    },
    "nbformat_minor": 2,
    "nbformat": 4,
    "cells": [
        {
            "cell_type": "code",
            "source": [
                "SELECT c.CustomerID, n.StudentID, c.FirstName, c.LastName, c.SalesPerson, c.rowguid\n",
                "FROM SalesLT.Customer AS c\n",
                "JOIN (\n",
                "    VALUES\n",
                "    (30118, '1542897'),\n",
                "    (30117, '1542675'),\n",
                "    (30116, '1542583'),\n",
                "    (30115, '1542352'),\n",
                "    (30113, '1542301'),\n",
                "    (30112, '1542293'),\n",
                "    (30111, '1542125'),\n",
                "    (30110, '1541674'),\n",
                "    (30109, '1540904'),\n",
                "    (30108, '1537856'),\n",
                "    (30107, '1537675'),\n",
                "    (30106, '1536977'),\n",
                "    (30105, '1536865'),\n",
                "    (30104, '1536740'),\n",
                "    (30102, '1536731'),\n",
                "    (30100, '1536123'),\n",
                "    (30098, '1534758'),\n",
                "    (30095, '1527574'),\n",
                "    (30094, '1525759'),\n",
                "    (30093, '1511142'),\n",
                "    (30090, '1506007'),\n",
                "    (30089, '1505897'),\n",
                "    (30087, '1497172')\n",
                ") AS n (CustomerID, StudentID)\n",
                "    ON c.CustomerID = n.CustomerID;"
            ],
            "metadata": {
                "azdata_cell_guid": "4e5a2fe9-c0e0-4010-91f1-b6c8169e4549",
                "language": "sql",
                "tags": []
            },
            "outputs": [
{
    "output_type": "display_data",
    "data": {
        "text/html": "(23 rows affected)"
    },
    "metadata": {}
}, {
    "output_type": "display_data",
    "data": {
        "text/html": "Total execution time: 00:00:00.020"
    },
    "metadata": {}
}, {
    "output_type": "execute_result",
    "metadata": {},
    "execution_count": 2,
    "data": {
        "application/vnd.dataresource+json": {
            "schema": {
                "fields": [
                    {
                        "name": "CustomerID"
                    },
                    {
                        "name": "StudentID"
                    },
                    {
                        "name": "FirstName"
                    },
                    {
                        "name": "LastName"
                    },
                    {
                        "name": "SalesPerson"
                    },
                    {
                        "name": "rowguid"
                    }
                ]
            },
            "data": [
                {
                    "CustomerID": "30118",
                    "StudentID": "1542897",
                    "FirstName": "Caroline",
                    "LastName": "Vicknair",
                    "SalesPerson": "adventure-works\\jillian0",
                    "rowguid": "2495b4eb-fe8b-459e-a1b6-dba25c04e626"
                },
                {
                    "CustomerID": "30117",
                    "StudentID": "1542675",
                    "FirstName": "Robert",
                    "LastName": "Vessa",
                    "SalesPerson": "adventure-works\\jillian0",
                    "rowguid": "6f08e2fb-1cd3-4f6e-a2e6-385669598b19"
                },
                {
                    "CustomerID": "30116",
                    "StudentID": "1542583",
                    "FirstName": "Wanda",
                    "LastName": "Vernon",
                    "SalesPerson": "adventure-works\\shu0",
                    "rowguid": "ec409609-d25d-41b8-9d15-a1aa6e89fc77"
                },
                {
                    "CustomerID": "30115",
                    "StudentID": "1542352",
                    "FirstName": "Dora",
                    "LastName": "Verdad",
                    "SalesPerson": "adventure-works\\josé1",
                    "rowguid": "e4cf8fd5-30a4-4b8e-8fd8-47032e255778"
                },
                {
                    "CustomerID": "30113",
                    "StudentID": "1542301",
                    "FirstName": "Raja",
                    "LastName": "Venugopal",
                    "SalesPerson": "adventure-works\\jae0",
                    "rowguid": "84975c44-dc82-49d3-bfc4-8f31b4c8e994"
                },
                {
                    "CustomerID": "30112",
                    "StudentID": "1542293",
                    "FirstName": "Patricia",
                    "LastName": "Vasquez",
                    "SalesPerson": "adventure-works\\pamela0",
                    "rowguid": "b2e90958-4a9b-40f9-a8d8-091600b856b2"
                },
                {
                    "CustomerID": "30111",
                    "StudentID": "1542125",
                    "FirstName": "Ranjit",
                    "LastName": "Varkey Chudukatil",
                    "SalesPerson": "adventure-works\\jillian0",
                    "rowguid": "d414d91f-8abe-47de-a576-ddd881e955dc"
                },
                {
                    "CustomerID": "30110",
                    "StudentID": "1541674",
                    "FirstName": "Gary",
                    "LastName": "Vargas",
                    "SalesPerson": "adventure-works\\shu0",
                    "rowguid": "4460c7aa-fe06-4d56-98cb-6de6e050d73a"
                },
                {
                    "CustomerID": "30109",
                    "StudentID": "1540904",
                    "FirstName": "Nieves",
                    "LastName": "Vargas",
                    "SalesPerson": "adventure-works\\michael9",
                    "rowguid": "71f5e3bb-78bd-426f-b75a-eeb76dc21473"
                },
                {
                    "CustomerID": "30108",
                    "StudentID": "1537856",
                    "FirstName": "Kara",
                    "LastName": "Vanderlinden",
                    "SalesPerson": "adventure-works\\josé1",
                    "rowguid": "a588ee77-50ee-445f-989b-e8dd9b31d587"
                },
                {
                    "CustomerID": "30107",
                    "StudentID": "1537675",
                    "FirstName": "Margaret",
                    "LastName": "Vanderkamp",
                    "SalesPerson": "adventure-works\\shu0",
                    "rowguid": "ac07da4a-9fb0-4832-8219-5b6d43dd13d8"
                },
                {
                    "CustomerID": "30106",
                    "StudentID": "1536977",
                    "FirstName": "Michael",
                    "LastName": "Vanderhyde",
                    "SalesPerson": "adventure-works\\jillian0",
                    "rowguid": "ca0d950a-a3fe-41c6-9b1a-125a5002dafa"
                },
                {
                    "CustomerID": "30105",
                    "StudentID": "1536865",
                    "FirstName": "Gregory",
                    "LastName": "Vanderbout",
                    "SalesPerson": "adventure-works\\pamela0",
                    "rowguid": "67ca966e-b20f-4230-b81c-42f0919d3ee6"
                },
                {
                    "CustomerID": "30104",
                    "StudentID": "1536740",
                    "FirstName": "Rose",
                    "LastName": "Vandenouer",
                    "SalesPerson": "adventure-works\\jae0",
                    "rowguid": "aa874cb8-c96f-44de-93bf-c1311238bd1d"
                },
                {
                    "CustomerID": "30102",
                    "StudentID": "1536731",
                    "FirstName": "Roger",
                    "LastName": "Van Houten",
                    "SalesPerson": "adventure-works\\jae0",
                    "rowguid": "0ee7e95d-f12d-4d0d-8c6e-c64a0dda719a"
                },
                {
                    "CustomerID": "30100",
                    "StudentID": "1536123",
                    "FirstName": "Jessie",
                    "LastName": "Valerio",
                    "SalesPerson": "adventure-works\\linda3",
                    "rowguid": "abc5d37c-0dab-42c0-aa94-3c688c6eae0e"
                },
                {
                    "CustomerID": "30098",
                    "StudentID": "1534758",
                    "FirstName": "Esther",
                    "LastName": "Valle",
                    "SalesPerson": "adventure-works\\garrett1",
                    "rowguid": "8ea3bf8e-37a9-439e-90ac-da1f8f8fa6f3"
                },
                {
                    "CustomerID": "30095",
                    "StudentID": "1527574",
                    "FirstName": "Sunil",
                    "LastName": "Uppal",
                    "SalesPerson": "adventure-works\\jillian0",
                    "rowguid": "f4038305-63bc-4aad-861c-30583be7fde7"
                },
                {
                    "CustomerID": "30094",
                    "StudentID": "1525759",
                    "FirstName": "Sairaj",
                    "LastName": "Uddin",
                    "SalesPerson": "adventure-works\\linda3",
                    "rowguid": "091ce76c-504b-46b9-9bbc-924cdc0c7b8d"
                },
                {
                    "CustomerID": "30093",
                    "StudentID": "1511142",
                    "FirstName": "Phyllis",
                    "LastName": "Tuffield",
                    "SalesPerson": "adventure-works\\garrett1",
                    "rowguid": "0f8fb794-1025-4bff-8219-2f19e09dc4ab"
                },
                {
                    "CustomerID": "30090",
                    "StudentID": "1506007",
                    "FirstName": "Christie",
                    "LastName": "Trujillo",
                    "SalesPerson": "adventure-works\\jillian0",
                    "rowguid": "76a81a79-27ac-4375-bb24-2a360b9471ee"
                },
                {
                    "CustomerID": "30089",
                    "StudentID": "1505897",
                    "FirstName": "Michael John",
                    "LastName": "Troyer",
                    "SalesPerson": "adventure-works\\linda3",
                    "rowguid": "8d6af1e8-5082-4e5c-9f15-dfd04e64fd95"
                },
                {
                    "CustomerID": "30087",
                    "StudentID": "1497172",
                    "FirstName": "Billy",
                    "LastName": "Trent",
                    "SalesPerson": "adventure-works\\garrett1",
                    "rowguid": "a48662d5-c698-4048-9546-c562df2ac4e8"
                }
            ]
        },
        "text/html": [
            "<table>",
            "<tr><th>CustomerID</th><th>StudentID</th><th>FirstName</th><th>LastName</th><th>SalesPerson</th><th>rowguid</th></tr>",
            "<tr><td>30118</td><td>1542897</td><td>Caroline</td><td>Vicknair</td><td>adventure-works\\jillian0</td><td>2495b4eb-fe8b-459e-a1b6-dba25c04e626</td></tr>",
            "<tr><td>30117</td><td>1542675</td><td>Robert</td><td>Vessa</td><td>adventure-works\\jillian0</td><td>6f08e2fb-1cd3-4f6e-a2e6-385669598b19</td></tr>",
            "<tr><td>30116</td><td>1542583</td><td>Wanda</td><td>Vernon</td><td>adventure-works\\shu0</td><td>ec409609-d25d-41b8-9d15-a1aa6e89fc77</td></tr>",
            "<tr><td>30115</td><td>1542352</td><td>Dora</td><td>Verdad</td><td>adventure-works\\josé1</td><td>e4cf8fd5-30a4-4b8e-8fd8-47032e255778</td></tr>",
            "<tr><td>30113</td><td>1542301</td><td>Raja</td><td>Venugopal</td><td>adventure-works\\jae0</td><td>84975c44-dc82-49d3-bfc4-8f31b4c8e994</td></tr>",
            "<tr><td>30112</td><td>1542293</td><td>Patricia</td><td>Vasquez</td><td>adventure-works\\pamela0</td><td>b2e90958-4a9b-40f9-a8d8-091600b856b2</td></tr>",
            "<tr><td>30111</td><td>1542125</td><td>Ranjit</td><td>Varkey Chudukatil</td><td>adventure-works\\jillian0</td><td>d414d91f-8abe-47de-a576-ddd881e955dc</td></tr>",
            "<tr><td>30110</td><td>1541674</td><td>Gary</td><td>Vargas</td><td>adventure-works\\shu0</td><td>4460c7aa-fe06-4d56-98cb-6de6e050d73a</td></tr>",
            "<tr><td>30109</td><td>1540904</td><td>Nieves</td><td>Vargas</td><td>adventure-works\\michael9</td><td>71f5e3bb-78bd-426f-b75a-eeb76dc21473</td></tr>",
            "<tr><td>30108</td><td>1537856</td><td>Kara</td><td>Vanderlinden</td><td>adventure-works\\josé1</td><td>a588ee77-50ee-445f-989b-e8dd9b31d587</td></tr>",
            "<tr><td>30107</td><td>1537675</td><td>Margaret</td><td>Vanderkamp</td><td>adventure-works\\shu0</td><td>ac07da4a-9fb0-4832-8219-5b6d43dd13d8</td></tr>",
            "<tr><td>30106</td><td>1536977</td><td>Michael</td><td>Vanderhyde</td><td>adventure-works\\jillian0</td><td>ca0d950a-a3fe-41c6-9b1a-125a5002dafa</td></tr>",
            "<tr><td>30105</td><td>1536865</td><td>Gregory</td><td>Vanderbout</td><td>adventure-works\\pamela0</td><td>67ca966e-b20f-4230-b81c-42f0919d3ee6</td></tr>",
            "<tr><td>30104</td><td>1536740</td><td>Rose</td><td>Vandenouer</td><td>adventure-works\\jae0</td><td>aa874cb8-c96f-44de-93bf-c1311238bd1d</td></tr>",
            "<tr><td>30102</td><td>1536731</td><td>Roger</td><td>Van Houten</td><td>adventure-works\\jae0</td><td>0ee7e95d-f12d-4d0d-8c6e-c64a0dda719a</td></tr>",
            "<tr><td>30100</td><td>1536123</td><td>Jessie</td><td>Valerio</td><td>adventure-works\\linda3</td><td>abc5d37c-0dab-42c0-aa94-3c688c6eae0e</td></tr>",
            "<tr><td>30098</td><td>1534758</td><td>Esther</td><td>Valle</td><td>adventure-works\\garrett1</td><td>8ea3bf8e-37a9-439e-90ac-da1f8f8fa6f3</td></tr>",
            "<tr><td>30095</td><td>1527574</td><td>Sunil</td><td>Uppal</td><td>adventure-works\\jillian0</td><td>f4038305-63bc-4aad-861c-30583be7fde7</td></tr>",
            "<tr><td>30094</td><td>1525759</td><td>Sairaj</td><td>Uddin</td><td>adventure-works\\linda3</td><td>091ce76c-504b-46b9-9bbc-924cdc0c7b8d</td></tr>",
            "<tr><td>30093</td><td>1511142</td><td>Phyllis</td><td>Tuffield</td><td>adventure-works\\garrett1</td><td>0f8fb794-1025-4bff-8219-2f19e09dc4ab</td></tr>",
            "<tr><td>30090</td><td>1506007</td><td>Christie</td><td>Trujillo</td><td>adventure-works\\jillian0</td><td>76a81a79-27ac-4375-bb24-2a360b9471ee</td></tr>",
            "<tr><td>30089</td><td>1505897</td><td>Michael John</td><td>Troyer</td><td>adventure-works\\linda3</td><td>8d6af1e8-5082-4e5c-9f15-dfd04e64fd95</td></tr>",
            "<tr><td>30087</td><td>1497172</td><td>Billy</td><td>Trent</td><td>adventure-works\\garrett1</td><td>a48662d5-c698-4048-9546-c562df2ac4e8</td></tr>",
            "</table>"
        ]
    }
}
],
            "execution_count": 2
        }
    ]
}