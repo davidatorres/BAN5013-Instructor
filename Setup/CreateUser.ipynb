{
    "metadata": {
        "kernelspec": {
            "name": "SQL",
            "display_name": "SQL",
            "language": "sql"
        },
        "language_info": {
            "name": "sql",
            "version": ""
        }
    },
    "nbformat_minor": 2,
    "nbformat": 4,
    "cells": [
        {
            "cell_type": "code",
            "source": [
                "-- CREATE LOGIN ban5013user WITH PASSWORD = 'ban@5013!';\n",
                "CREATE USER ban5013user FOR LOGIN ban5013user;"
            ],
            "metadata": {
                "azdata_cell_guid": "1dc07662-9d32-4827-b10b-6d78640b194b",
                "language": "sql",
                "tags": []
            },
            "outputs": [
                {
                    "output_type": "display_data",
                    "data": {
                        "text/html": "Commands completed successfully."
                    },
                    "metadata": {}
                },
                {
                    "output_type": "display_data",
                    "data": {
                        "text/html": "Total execution time: 00:00:00.026"
                    },
                    "metadata": {}
                }
            ],
            "execution_count": 52
        },
        {
            "cell_type": "code",
            "source": [
                "-- CREATE USER ban5013user FOR LOGIN ban5013user;\n",
                "EXEC sp_addrolemember N'db_datareader', N'ban5013user'"
            ],
            "metadata": {
                "language": "sql",
                "azdata_cell_guid": "7aa8e8e1-06ff-4970-b79e-a567cbdedb8b"
            },
            "outputs": [
                {
                    "output_type": "display_data",
                    "data": {
                        "text/html": "Commands completed successfully."
                    },
                    "metadata": {}
                },
                {
                    "output_type": "display_data",
                    "data": {
                        "text/html": "Total execution time: 00:00:00.019"
                    },
                    "metadata": {}
                }
            ],
            "execution_count": 59
        },
        {
            "cell_type": "code",
            "source": [
                "SELECT name AS UserName, type_desc AS UserType\n",
                "FROM sys.database_principals\n",
                "WHERE type_desc IN ('SQL_USER', 'WINDOWS_USER', 'WINDOWS_GROUP');"
            ],
            "metadata": {
                "language": "sql",
                "azdata_cell_guid": "847c9dc7-c2c0-4d8f-b78f-6b75e6596b4b",
                "tags": [
                    "hide_input"
                ]
            },
            "outputs": [
                {
                    "output_type": "display_data",
                    "data": {
                        "text/html": "(7 rows affected)"
                    },
                    "metadata": {}
                },
                {
                    "output_type": "display_data",
                    "data": {
                        "text/html": "Total execution time: 00:00:00.024"
                    },
                    "metadata": {}
                },
                {
                    "output_type": "execute_result",
                    "execution_count": 57,
                    "data": {
                        "application/vnd.dataresource+json": {
                            "schema": {
                                "fields": [
                                    {
                                        "name": "UserName"
                                    },
                                    {
                                        "name": "UserType"
                                    }
                                ]
                            },
                            "data": [
                                {
                                    "UserName": "dbo",
                                    "UserType": "SQL_USER"
                                },
                                {
                                    "UserName": "guest",
                                    "UserType": "SQL_USER"
                                },
                                {
                                    "UserName": "INFORMATION_SCHEMA",
                                    "UserType": "SQL_USER"
                                },
                                {
                                    "UserName": "sys",
                                    "UserType": "SQL_USER"
                                },
                                {
                                    "UserName": "ban5013",
                                    "UserType": "SQL_USER"
                                },
                                {
                                    "UserName": "ban5013student",
                                    "UserType": "SQL_USER"
                                },
                                {
                                    "UserName": "ban5013user",
                                    "UserType": "SQL_USER"
                                }
                            ]
                        },
                        "text/html": "<table><tr><th>UserName</th><th>UserType</th></tr><tr><td>dbo</td><td>SQL_USER</td></tr><tr><td>guest</td><td>SQL_USER</td></tr><tr><td>INFORMATION_SCHEMA</td><td>SQL_USER</td></tr><tr><td>sys</td><td>SQL_USER</td></tr><tr><td>ban5013</td><td>SQL_USER</td></tr><tr><td>ban5013student</td><td>SQL_USER</td></tr><tr><td>ban5013user</td><td>SQL_USER</td></tr></table>"
                    },
                    "metadata": {}
                }
            ],
            "execution_count": 57
        },
        {
            "cell_type": "code",
            "source": [
                "DROP \n",
                "DROP LOGIN ban5013user;"
            ],
            "metadata": {
                "language": "sql",
                "azdata_cell_guid": "47f42947-de08-49f7-9a31-0be0643ad705"
            },
            "outputs": [
                {
                    "output_type": "display_data",
                    "data": {
                        "text/html": "Commands completed successfully."
                    },
                    "metadata": {}
                },
                {
                    "output_type": "display_data",
                    "data": {
                        "text/html": "Total execution time: 00:00:00.022"
                    },
                    "metadata": {}
                }
            ],
            "execution_count": 49
        },
        {
            "cell_type": "code",
            "source": [
                "-- SELECT name AS LoginName, type_desc AS LoginType, create_date AS CreationDate\n",
                "-- FROM sys.sql_logins;"
            ],
            "metadata": {
                "language": "sql",
                "azdata_cell_guid": "06eb382d-b075-460d-8953-d93ef6582493"
            },
            "outputs": [
                {
                    "output_type": "error",
                    "ename": "",
                    "evalue": "Msg 208, Level 16, State 1, Line 1\nInvalid object name 'sys.sql_logins'.",
                    "traceback": []
                },
                {
                    "output_type": "display_data",
                    "data": {
                        "text/html": "Total execution time: 00:00:00.013"
                    },
                    "metadata": {}
                }
            ],
            "execution_count": 55
        },
        {
            "cell_type": "code",
            "source": [
                "-- List database rights by user\n",
                "SELECT \n",
                "    princ.name AS UserName,\n",
                "    perm.permission_name AS Permission\n",
                "FROM sys.database_permissions perm\n",
                "JOIN sys.database_principals princ ON perm.grantee_principal_id = princ.principal_id\n",
                "WHERE princ.type IN ('U', 'S', 'G') -- Filter for users, SQL users, and Windows groups\n",
                "ORDER BY princ.name;"
            ],
            "metadata": {
                "language": "sql",
                "azdata_cell_guid": "5a236973-86cd-4be3-8ab4-df1cfb47687b"
            },
            "outputs": [
                {
                    "output_type": "display_data",
                    "data": {
                        "text/html": "(3 rows affected)"
                    },
                    "metadata": {}
                },
                {
                    "output_type": "display_data",
                    "data": {
                        "text/html": "Total execution time: 00:00:00.016"
                    },
                    "metadata": {}
                },
                {
                    "output_type": "execute_result",
                    "execution_count": 56,
                    "data": {
                        "application/vnd.dataresource+json": {
                            "schema": {
                                "fields": [
                                    {
                                        "name": "UserName"
                                    },
                                    {
                                        "name": "Permission"
                                    }
                                ]
                            },
                            "data": [
                                {
                                    "UserName": "ban5013student",
                                    "Permission": "CONNECT"
                                },
                                {
                                    "UserName": "ban5013user",
                                    "Permission": "CONNECT"
                                },
                                {
                                    "UserName": "dbo",
                                    "Permission": "CONNECT"
                                }
                            ]
                        },
                        "text/html": "<table><tr><th>UserName</th><th>Permission</th></tr><tr><td>ban5013student</td><td>CONNECT</td></tr><tr><td>ban5013user</td><td>CONNECT</td></tr><tr><td>dbo</td><td>CONNECT</td></tr></table>"
                    },
                    "metadata": {}
                }
            ],
            "execution_count": 56
        },
        {
            "cell_type": "code",
            "source": [
                "CREATE USER "
            ],
            "metadata": {
                "azdata_cell_guid": "7926b85e-fd1e-4bfe-a648-18f1d8140007",
                "language": "sql"
            },
            "outputs": [],
            "execution_count": null
        }
    ]
}