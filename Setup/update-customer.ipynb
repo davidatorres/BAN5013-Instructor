{
    "metadata": {
        "kernelspec": {
            "name": "SQL",
            "display_name": "SQL",
            "language": "sql"
        },
        "language_info": {
            "name": "sql",
            "version": ""
        }
    },
    "nbformat_minor": 2,
    "nbformat": 4,
    "cells": [
        {
            "cell_type": "code",
            "source": [
                "    SELECT TOP 23 CustomerID\n",
                "    FROM SalesLT.Customer\n",
                "    ORDER BY CustomerID DESC"
            ],
            "metadata": {
                "language": "sql",
                "azdata_cell_guid": "d3e45c3e-1126-4395-9d46-608532f2c905"
            },
            "outputs": [],
            "execution_count": null
        },
        {
            "cell_type": "code",
            "source": [
                "-- Update the last 23 CustomerID fields\n",
                "WITH CTE AS (\n",
                "    SELECT TOP 23 CustomerID, PasswordSalt\n",
                "    FROM SalesLT.Customer\n",
                "    ORDER BY CustomerID DESC\n",
                ")\n",
                "UPDATE CTE\n",
                "SET PasswordSalt = StudentID\n",
                "FROM CTE\n",
                "JOIN (\n",
                "    VALUES\n",
                "    (30118, '1542897'),\n",
                "    (30117, '1542675'),\n",
                "    (30116, '1542583'),\n",
                "    (30115, '1542352'),\n",
                "    (30113, '1542301'),\n",
                "    (30112, '1542293'),\n",
                "    (30111, '1542125'),\n",
                "    (30110, '1541674'),\n",
                "    (30109, '1540904'),\n",
                "    (30108, '1537856'),\n",
                "    (30107, '1537675'),\n",
                "    (30106, '1536977'),\n",
                "    (30105, '1536865'),\n",
                "    (30104, '1536740'),\n",
                "    (30102, '1536731'),\n",
                "    (30100, '1536123'),\n",
                "    (30098, '1534758'),\n",
                "    (30095, '1527574'),\n",
                "    (30094, '1525759'),\n",
                "    (30093, '1511142'),\n",
                "    (30090, '1506007'),\n",
                "    (30089, '1505897'),\n",
                "    (30087, '1497172')\n",
                ") AS NewIDs (CustomerID, StudentID)\n",
                "    ON CTE.CustomerID = NewIDs.CustomerID;"
            ],
            "metadata": {
                "azdata_cell_guid": "20077f83-ccf8-4745-8a46-34bfd9fc82ca",
                "language": "sql",
                "tags": []
            },
            "outputs": [],
            "execution_count": null
        },
        {
            "cell_type": "code",
            "source": [
                "SELECT TOP 23 CustomerID, PasswordSalt\n",
                "FROM SalesLT.Customer\n",
                "ORDER BY CustomerID DESC"
            ],
            "metadata": {
                "language": "sql",
                "azdata_cell_guid": "5a4f7b03-7008-4866-9f0d-1c8fec735d30"
            },
            "outputs": [],
            "execution_count": null
        }
    ]
}